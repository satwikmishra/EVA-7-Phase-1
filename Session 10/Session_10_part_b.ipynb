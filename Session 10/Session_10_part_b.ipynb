{
  "nbformat": 4,
  "nbformat_minor": 0,
  "metadata": {
    "colab": {
      "name": "Session_10_part_b.ipynb",
      "provenance": []
    },
    "kernelspec": {
      "name": "python3",
      "display_name": "Python 3"
    },
    "language_info": {
      "name": "python"
    }
  },
  "cells": [
    {
      "cell_type": "markdown",
      "source": [
        "##Import necessary packages"
      ],
      "metadata": {
        "id": "_bcmut4uZQwo"
      }
    },
    {
      "cell_type": "code",
      "source": [
        "import numpy as np\n",
        "import json\n",
        "from matplotlib import pyplot as plt\n",
        "from sklearn.cluster import KMeans\n",
        "import pandas as pd\n"
      ],
      "metadata": {
        "id": "knu57DsbZQ2_"
      },
      "execution_count": 1,
      "outputs": []
    },
    {
      "cell_type": "markdown",
      "source": [
        "## Fetch the data"
      ],
      "metadata": {
        "id": "dKN1fKRnYk0Q"
      }
    },
    {
      "cell_type": "code",
      "source": [
        "!wget http://images.cocodataset.org/annotations/annotations_trainval2017.zip\n",
        "!unzip 'annotations_trainval2017.zip'"
      ],
      "metadata": {
        "colab": {
          "base_uri": "https://localhost:8080/"
        },
        "id": "W2IwNBstZ2NE",
        "outputId": "b095c3af-21da-40da-bacb-d63a6576cbf1"
      },
      "execution_count": 2,
      "outputs": [
        {
          "output_type": "stream",
          "name": "stdout",
          "text": [
            "--2021-12-27 14:52:16--  http://images.cocodataset.org/annotations/annotations_trainval2017.zip\n",
            "Resolving images.cocodataset.org (images.cocodataset.org)... 52.217.68.204\n",
            "Connecting to images.cocodataset.org (images.cocodataset.org)|52.217.68.204|:80... connected.\n",
            "HTTP request sent, awaiting response... 200 OK\n",
            "Length: 252907541 (241M) [application/zip]\n",
            "Saving to: ‘annotations_trainval2017.zip’\n",
            "\n",
            "annotations_trainva 100%[===================>] 241.19M  74.6MB/s    in 3.2s    \n",
            "\n",
            "2021-12-27 14:52:20 (74.6 MB/s) - ‘annotations_trainval2017.zip’ saved [252907541/252907541]\n",
            "\n",
            "Archive:  annotations_trainval2017.zip\n",
            "  inflating: annotations/instances_train2017.json  \n",
            "  inflating: annotations/instances_val2017.json  \n",
            "  inflating: annotations/captions_train2017.json  \n",
            "  inflating: annotations/captions_val2017.json  \n",
            "  inflating: annotations/person_keypoints_train2017.json  \n",
            "  inflating: annotations/person_keypoints_val2017.json  \n"
          ]
        }
      ]
    },
    {
      "cell_type": "markdown",
      "source": [
        "## Load the .JSON file"
      ],
      "metadata": {
        "id": "k1ZCWXeqYnqG"
      }
    },
    {
      "cell_type": "code",
      "source": [
        "file_data = open('/content/annotations/instances_train2017.json')\n",
        "annotation = json.load(file_data)\n",
        "print(annotation.keys())"
      ],
      "metadata": {
        "colab": {
          "base_uri": "https://localhost:8080/"
        },
        "id": "9CycZZ9vZXg3",
        "outputId": "9215d801-3a60-49f1-e2eb-00589ddf3331"
      },
      "execution_count": 3,
      "outputs": [
        {
          "output_type": "stream",
          "name": "stdout",
          "text": [
            "dict_keys(['info', 'licenses', 'images', 'annotations', 'categories'])\n"
          ]
        }
      ]
    },
    {
      "cell_type": "code",
      "source": [
        "print(annotation['annotations'][302])"
      ],
      "metadata": {
        "colab": {
          "base_uri": "https://localhost:8080/"
        },
        "id": "56QpxKOAaD8h",
        "outputId": "f5eecf2c-785b-49cb-8d38-563d03082da8"
      },
      "execution_count": 4,
      "outputs": [
        {
          "output_type": "stream",
          "name": "stdout",
          "text": [
            "{'segmentation': [[414.23, 355.52, 413.41, 353.45, 410.52, 348.91, 412.17, 344.37, 413.0, 341.48, 410.93, 335.69, 410.1, 326.61, 409.28, 317.52, 417.13, 317.52, 422.49, 326.61, 423.73, 320.83, 423.73, 310.09, 423.73, 302.24, 424.15, 289.44, 424.97, 280.35, 428.28, 274.16, 431.58, 279.52, 438.19, 286.96, 434.06, 279.94, 435.71, 265.48, 439.84, 260.53, 441.49, 270.03, 443.56, 275.81, 444.8, 263.42, 449.75, 253.92, 450.17, 257.22, 450.17, 263.0, 451.41, 275.81, 451.82, 289.85, 448.51, 298.52, 448.93, 308.44, 446.86, 314.63, 450.58, 315.04, 450.17, 318.35, 450.58, 321.65, 455.12, 320.83, 457.19, 322.89, 455.12, 328.67, 454.71, 335.28, 452.65, 339.82, 452.23, 343.54, 450.99, 345.19, 450.58, 346.85, 450.17, 352.63, 447.28, 358.41, 444.8, 359.65, 441.49, 357.58, 434.06, 356.35, 430.76, 357.58, 428.69, 358.41, 421.26, 358.41, 416.71, 357.58]], 'area': 2874.758300000001, 'iscrowd': 0, 'image_id': 429807, 'bbox': [409.28, 253.92, 47.91, 105.73], 'category_id': 64, 'id': 26066}\n"
          ]
        }
      ]
    },
    {
      "cell_type": "code",
      "source": [
        "print(\"ANALYSIS OF THE ANNOTATED DATASET\")\n",
        "print(\"Number of images: \" + str(len(annotation['images'])))\n",
        "print(\"Total number of annotated boxes: \" + str(len(annotation['annotations'])))\n",
        "print(\"Total number of categories/classes: \" + str(len(annotation['categories'])))"
      ],
      "metadata": {
        "colab": {
          "base_uri": "https://localhost:8080/"
        },
        "id": "ILGWuGO2Zznw",
        "outputId": "bf488b8d-a55e-417e-a99d-dcac2cac6fe3"
      },
      "execution_count": 5,
      "outputs": [
        {
          "output_type": "stream",
          "name": "stdout",
          "text": [
            "ANALYSIS OF THE ANNOTATED DATASET\n",
            "Number of images: 118287\n",
            "Total number of annotated boxes: 860001\n",
            "Total number of categories/classes: 80\n"
          ]
        }
      ]
    },
    {
      "cell_type": "code",
      "source": [
        "images_dataframe = pd.DataFrame(annotation['images'], columns = annotation['images'][0].keys())\n",
        "annotations_dataframe = pd.DataFrame(annotation['annotations'], columns = annotation['annotations'][0].keys())"
      ],
      "metadata": {
        "id": "0rnGz-aGbBA3"
      },
      "execution_count": 6,
      "outputs": []
    },
    {
      "cell_type": "code",
      "source": [
        "annotation_map= pd.concat([images_dataframe, annotations_dataframe], 1)[['file_name', 'width', 'height', 'bbox']]\n",
        "box_df = pd.DataFrame(annotation_map['bbox'].values.tolist(), columns =['x', 'y', 'box_width', 'box_height'])\n",
        "annotation_map = pd.concat([annotation_map, box_df], 1)\n",
        "annotation_map = annotation_map.drop('bbox', axis =1)"
      ],
      "metadata": {
        "id": "q6-QFHXtbQ2r"
      },
      "execution_count": 7,
      "outputs": []
    },
    {
      "cell_type": "code",
      "source": [
        "annotation_map"
      ],
      "metadata": {
        "colab": {
          "base_uri": "https://localhost:8080/",
          "height": 423
        },
        "id": "8PhpVvUqTE29",
        "outputId": "ef8a72d9-ca08-4633-b1eb-12e452340566"
      },
      "execution_count": 8,
      "outputs": [
        {
          "output_type": "execute_result",
          "data": {
            "text/html": [
              "\n",
              "  <div id=\"df-7df0651a-75a8-4f0e-88ae-da952a10432b\">\n",
              "    <div class=\"colab-df-container\">\n",
              "      <div>\n",
              "<style scoped>\n",
              "    .dataframe tbody tr th:only-of-type {\n",
              "        vertical-align: middle;\n",
              "    }\n",
              "\n",
              "    .dataframe tbody tr th {\n",
              "        vertical-align: top;\n",
              "    }\n",
              "\n",
              "    .dataframe thead th {\n",
              "        text-align: right;\n",
              "    }\n",
              "</style>\n",
              "<table border=\"1\" class=\"dataframe\">\n",
              "  <thead>\n",
              "    <tr style=\"text-align: right;\">\n",
              "      <th></th>\n",
              "      <th>file_name</th>\n",
              "      <th>width</th>\n",
              "      <th>height</th>\n",
              "      <th>x</th>\n",
              "      <th>y</th>\n",
              "      <th>box_width</th>\n",
              "      <th>box_height</th>\n",
              "    </tr>\n",
              "  </thead>\n",
              "  <tbody>\n",
              "    <tr>\n",
              "      <th>0</th>\n",
              "      <td>000000391895.jpg</td>\n",
              "      <td>640.0</td>\n",
              "      <td>360.0</td>\n",
              "      <td>199.84</td>\n",
              "      <td>200.46</td>\n",
              "      <td>77.71</td>\n",
              "      <td>70.88</td>\n",
              "    </tr>\n",
              "    <tr>\n",
              "      <th>1</th>\n",
              "      <td>000000522418.jpg</td>\n",
              "      <td>640.0</td>\n",
              "      <td>480.0</td>\n",
              "      <td>234.22</td>\n",
              "      <td>317.11</td>\n",
              "      <td>149.39</td>\n",
              "      <td>38.55</td>\n",
              "    </tr>\n",
              "    <tr>\n",
              "      <th>2</th>\n",
              "      <td>000000184613.jpg</td>\n",
              "      <td>500.0</td>\n",
              "      <td>336.0</td>\n",
              "      <td>239.48</td>\n",
              "      <td>347.87</td>\n",
              "      <td>160.00</td>\n",
              "      <td>57.81</td>\n",
              "    </tr>\n",
              "    <tr>\n",
              "      <th>3</th>\n",
              "      <td>000000318219.jpg</td>\n",
              "      <td>556.0</td>\n",
              "      <td>640.0</td>\n",
              "      <td>296.65</td>\n",
              "      <td>388.33</td>\n",
              "      <td>1.03</td>\n",
              "      <td>0.00</td>\n",
              "    </tr>\n",
              "    <tr>\n",
              "      <th>4</th>\n",
              "      <td>000000554625.jpg</td>\n",
              "      <td>426.0</td>\n",
              "      <td>640.0</td>\n",
              "      <td>251.87</td>\n",
              "      <td>333.42</td>\n",
              "      <td>125.94</td>\n",
              "      <td>22.71</td>\n",
              "    </tr>\n",
              "    <tr>\n",
              "      <th>...</th>\n",
              "      <td>...</td>\n",
              "      <td>...</td>\n",
              "      <td>...</td>\n",
              "      <td>...</td>\n",
              "      <td>...</td>\n",
              "      <td>...</td>\n",
              "      <td>...</td>\n",
              "    </tr>\n",
              "    <tr>\n",
              "      <th>859996</th>\n",
              "      <td>NaN</td>\n",
              "      <td>NaN</td>\n",
              "      <td>NaN</td>\n",
              "      <td>40.00</td>\n",
              "      <td>104.00</td>\n",
              "      <td>394.00</td>\n",
              "      <td>43.00</td>\n",
              "    </tr>\n",
              "    <tr>\n",
              "      <th>859997</th>\n",
              "      <td>NaN</td>\n",
              "      <td>NaN</td>\n",
              "      <td>NaN</td>\n",
              "      <td>137.00</td>\n",
              "      <td>195.00</td>\n",
              "      <td>140.00</td>\n",
              "      <td>138.00</td>\n",
              "    </tr>\n",
              "    <tr>\n",
              "      <th>859998</th>\n",
              "      <td>NaN</td>\n",
              "      <td>NaN</td>\n",
              "      <td>NaN</td>\n",
              "      <td>476.00</td>\n",
              "      <td>200.00</td>\n",
              "      <td>153.00</td>\n",
              "      <td>85.00</td>\n",
              "    </tr>\n",
              "    <tr>\n",
              "      <th>859999</th>\n",
              "      <td>NaN</td>\n",
              "      <td>NaN</td>\n",
              "      <td>NaN</td>\n",
              "      <td>275.00</td>\n",
              "      <td>207.00</td>\n",
              "      <td>153.00</td>\n",
              "      <td>148.00</td>\n",
              "    </tr>\n",
              "    <tr>\n",
              "      <th>860000</th>\n",
              "      <td>NaN</td>\n",
              "      <td>NaN</td>\n",
              "      <td>NaN</td>\n",
              "      <td>227.00</td>\n",
              "      <td>260.00</td>\n",
              "      <td>397.00</td>\n",
              "      <td>82.00</td>\n",
              "    </tr>\n",
              "  </tbody>\n",
              "</table>\n",
              "<p>860001 rows × 7 columns</p>\n",
              "</div>\n",
              "      <button class=\"colab-df-convert\" onclick=\"convertToInteractive('df-7df0651a-75a8-4f0e-88ae-da952a10432b')\"\n",
              "              title=\"Convert this dataframe to an interactive table.\"\n",
              "              style=\"display:none;\">\n",
              "        \n",
              "  <svg xmlns=\"http://www.w3.org/2000/svg\" height=\"24px\"viewBox=\"0 0 24 24\"\n",
              "       width=\"24px\">\n",
              "    <path d=\"M0 0h24v24H0V0z\" fill=\"none\"/>\n",
              "    <path d=\"M18.56 5.44l.94 2.06.94-2.06 2.06-.94-2.06-.94-.94-2.06-.94 2.06-2.06.94zm-11 1L8.5 8.5l.94-2.06 2.06-.94-2.06-.94L8.5 2.5l-.94 2.06-2.06.94zm10 10l.94 2.06.94-2.06 2.06-.94-2.06-.94-.94-2.06-.94 2.06-2.06.94z\"/><path d=\"M17.41 7.96l-1.37-1.37c-.4-.4-.92-.59-1.43-.59-.52 0-1.04.2-1.43.59L10.3 9.45l-7.72 7.72c-.78.78-.78 2.05 0 2.83L4 21.41c.39.39.9.59 1.41.59.51 0 1.02-.2 1.41-.59l7.78-7.78 2.81-2.81c.8-.78.8-2.07 0-2.86zM5.41 20L4 18.59l7.72-7.72 1.47 1.35L5.41 20z\"/>\n",
              "  </svg>\n",
              "      </button>\n",
              "      \n",
              "  <style>\n",
              "    .colab-df-container {\n",
              "      display:flex;\n",
              "      flex-wrap:wrap;\n",
              "      gap: 12px;\n",
              "    }\n",
              "\n",
              "    .colab-df-convert {\n",
              "      background-color: #E8F0FE;\n",
              "      border: none;\n",
              "      border-radius: 50%;\n",
              "      cursor: pointer;\n",
              "      display: none;\n",
              "      fill: #1967D2;\n",
              "      height: 32px;\n",
              "      padding: 0 0 0 0;\n",
              "      width: 32px;\n",
              "    }\n",
              "\n",
              "    .colab-df-convert:hover {\n",
              "      background-color: #E2EBFA;\n",
              "      box-shadow: 0px 1px 2px rgba(60, 64, 67, 0.3), 0px 1px 3px 1px rgba(60, 64, 67, 0.15);\n",
              "      fill: #174EA6;\n",
              "    }\n",
              "\n",
              "    [theme=dark] .colab-df-convert {\n",
              "      background-color: #3B4455;\n",
              "      fill: #D2E3FC;\n",
              "    }\n",
              "\n",
              "    [theme=dark] .colab-df-convert:hover {\n",
              "      background-color: #434B5C;\n",
              "      box-shadow: 0px 1px 3px 1px rgba(0, 0, 0, 0.15);\n",
              "      filter: drop-shadow(0px 1px 2px rgba(0, 0, 0, 0.3));\n",
              "      fill: #FFFFFF;\n",
              "    }\n",
              "  </style>\n",
              "\n",
              "      <script>\n",
              "        const buttonEl =\n",
              "          document.querySelector('#df-7df0651a-75a8-4f0e-88ae-da952a10432b button.colab-df-convert');\n",
              "        buttonEl.style.display =\n",
              "          google.colab.kernel.accessAllowed ? 'block' : 'none';\n",
              "\n",
              "        async function convertToInteractive(key) {\n",
              "          const element = document.querySelector('#df-7df0651a-75a8-4f0e-88ae-da952a10432b');\n",
              "          const dataTable =\n",
              "            await google.colab.kernel.invokeFunction('convertToInteractive',\n",
              "                                                     [key], {});\n",
              "          if (!dataTable) return;\n",
              "\n",
              "          const docLinkHtml = 'Like what you see? Visit the ' +\n",
              "            '<a target=\"_blank\" href=https://colab.research.google.com/notebooks/data_table.ipynb>data table notebook</a>'\n",
              "            + ' to learn more about interactive tables.';\n",
              "          element.innerHTML = '';\n",
              "          dataTable['output_type'] = 'display_data';\n",
              "          await google.colab.output.renderOutput(dataTable, element);\n",
              "          const docLink = document.createElement('div');\n",
              "          docLink.innerHTML = docLinkHtml;\n",
              "          element.appendChild(docLink);\n",
              "        }\n",
              "      </script>\n",
              "    </div>\n",
              "  </div>\n",
              "  "
            ],
            "text/plain": [
              "               file_name  width  height       x       y  box_width  box_height\n",
              "0       000000391895.jpg  640.0   360.0  199.84  200.46      77.71       70.88\n",
              "1       000000522418.jpg  640.0   480.0  234.22  317.11     149.39       38.55\n",
              "2       000000184613.jpg  500.0   336.0  239.48  347.87     160.00       57.81\n",
              "3       000000318219.jpg  556.0   640.0  296.65  388.33       1.03        0.00\n",
              "4       000000554625.jpg  426.0   640.0  251.87  333.42     125.94       22.71\n",
              "...                  ...    ...     ...     ...     ...        ...         ...\n",
              "859996               NaN    NaN     NaN   40.00  104.00     394.00       43.00\n",
              "859997               NaN    NaN     NaN  137.00  195.00     140.00      138.00\n",
              "859998               NaN    NaN     NaN  476.00  200.00     153.00       85.00\n",
              "859999               NaN    NaN     NaN  275.00  207.00     153.00      148.00\n",
              "860000               NaN    NaN     NaN  227.00  260.00     397.00       82.00\n",
              "\n",
              "[860001 rows x 7 columns]"
            ]
          },
          "metadata": {},
          "execution_count": 8
        }
      ]
    },
    {
      "cell_type": "code",
      "source": [
        "annotation_map.isna().sum()"
      ],
      "metadata": {
        "colab": {
          "base_uri": "https://localhost:8080/"
        },
        "id": "lG0XV058TSgd",
        "outputId": "09f5d279-fe2f-457a-9ede-b701ebcce458"
      },
      "execution_count": 9,
      "outputs": [
        {
          "output_type": "execute_result",
          "data": {
            "text/plain": [
              "file_name     741714\n",
              "width         741714\n",
              "height        741714\n",
              "x                  0\n",
              "y                  0\n",
              "box_width          0\n",
              "box_height         0\n",
              "dtype: int64"
            ]
          },
          "metadata": {},
          "execution_count": 9
        }
      ]
    },
    {
      "cell_type": "code",
      "source": [
        "annotation_map = annotation_map.dropna() \n",
        "annotation_map.isnull().any()"
      ],
      "metadata": {
        "colab": {
          "base_uri": "https://localhost:8080/"
        },
        "id": "gOd0e7cNTcdf",
        "outputId": "5e4e9751-4927-4ca6-c185-f86ef9ebe53a"
      },
      "execution_count": 10,
      "outputs": [
        {
          "output_type": "execute_result",
          "data": {
            "text/plain": [
              "file_name     False\n",
              "width         False\n",
              "height        False\n",
              "x             False\n",
              "y             False\n",
              "box_width     False\n",
              "box_height    False\n",
              "dtype: bool"
            ]
          },
          "metadata": {},
          "execution_count": 10
        }
      ]
    },
    {
      "cell_type": "code",
      "source": [
        "annotation_array = annotation_map[[\"width\", \"height\"]].to_numpy()"
      ],
      "metadata": {
        "id": "x62UPvBqTq28"
      },
      "execution_count": 11,
      "outputs": []
    },
    {
      "cell_type": "markdown",
      "source": [
        "## SCALING"
      ],
      "metadata": {
        "id": "bcQOiK1VYtcH"
      }
    },
    {
      "cell_type": "code",
      "source": [
        "from sklearn.preprocessing import MinMaxScaler\n",
        "\n",
        "scaler = MinMaxScaler()\n",
        "\n",
        "after_scaling = scaler.fit_transform(annotation_array)\n",
        "after_scaling"
      ],
      "metadata": {
        "colab": {
          "base_uri": "https://localhost:8080/"
        },
        "id": "Iz2bbfFZUUiX",
        "outputId": "e5e402b4-f7d5-458f-cdf9-5b9048fa5fed"
      },
      "execution_count": 12,
      "outputs": [
        {
          "output_type": "execute_result",
          "data": {
            "text/plain": [
              "array([[1.        , 0.524618  ],\n",
              "       [1.        , 0.72835314],\n",
              "       [0.75903614, 0.48387097],\n",
              "       ...,\n",
              "       [1.        , 0.72835314],\n",
              "       [0.75903614, 0.55008489],\n",
              "       [0.75903614, 0.55008489]])"
            ]
          },
          "metadata": {},
          "execution_count": 12
        }
      ]
    },
    {
      "cell_type": "markdown",
      "source": [
        "## KMeans Clustering technique"
      ],
      "metadata": {
        "id": "C-QBM1UTYxvg"
      }
    },
    {
      "cell_type": "code",
      "source": [
        "from sklearn.cluster import KMeans\n",
        "wcss = []\n",
        "for i in range(1, 12):\n",
        "    kmeans = KMeans(n_clusters = i, init = 'k-means++', random_state = 36)\n",
        "    kmeans.fit(after_scaling)\n",
        "    wcss.append(kmeans.inertia_)\n",
        "plt.plot(range(1, 12), wcss)\n",
        "plt.title('Elbow Method')\n",
        "plt.xlabel('No of clusters')\n",
        "plt.ylabel('WCSS')\n",
        "plt.show()"
      ],
      "metadata": {
        "colab": {
          "base_uri": "https://localhost:8080/",
          "height": 295
        },
        "id": "KgMiBlw8Ud05",
        "outputId": "d572f18e-c83e-4beb-8738-f69a342b9591"
      },
      "execution_count": 13,
      "outputs": [
        {
          "output_type": "display_data",
          "data": {
            "image/png": "[encoded data removed]",
            "text/plain": [
              "<Figure size 432x288 with 1 Axes>"
            ]
          },
          "metadata": {
            "needs_background": "light"
          }
        }
      ]
    },
    {
      "cell_type": "code",
      "source": [
        "kmeans = KMeans(n_clusters = 3, init = 'k-means++', random_state = 36)\n",
        "y_kmeans = kmeans.fit_predict(after_scaling)\n",
        "\n",
        "# Visualising the clusters\n",
        "plt.scatter(after_scaling[y_kmeans == 0, 0], after_scaling[y_kmeans == 0, 1], s = 100, c = 'red', label = 'Cluster 1')\n",
        "plt.scatter(after_scaling[y_kmeans == 1, 0], after_scaling[y_kmeans == 1, 1], s = 100, c = 'blue', label = 'Cluster 2')\n",
        "plt.scatter(after_scaling[y_kmeans == 2, 0], after_scaling[y_kmeans == 2, 1], s = 100, c = 'green', label = 'Cluster 3')\n",
        "plt.scatter(kmeans.cluster_centers_[:, 0], kmeans.cluster_centers_[:, 1], s = 300, c = 'yellow', label = 'Centroids')\n",
        "plt.title('Clusters of Bounding Boxes')\n",
        "plt.xlabel('Width')\n",
        "plt.ylabel('Height')\n",
        "plt.legend()\n",
        "plt.show()"
      ],
      "metadata": {
        "colab": {
          "base_uri": "https://localhost:8080/",
          "height": 295
        },
        "id": "cJv7yL3AUueq",
        "outputId": "020e4c2c-8021-4ba8-e73a-72d88e264fe5"
      },
      "execution_count": 14,
      "outputs": [
        {
          "output_type": "display_data",
          "data": {
            "image/png": "[encoded data removed]",
            "text/plain": [
              "<Figure size 432x288 with 1 Axes>"
            ]
          },
          "metadata": {
            "needs_background": "light"
          }
        }
      ]
    },
    {
      "cell_type": "code",
      "source": [
        "from matplotlib.collections import PatchCollection\n",
        "from matplotlib.patches import Rectangle\n",
        "\n",
        "def plot_boxes(cluster_centers):\n",
        "    \n",
        "    xdata = np.array([0.5]*len(cluster_centers))\n",
        "    ydata = np.array([0.5]*len(cluster_centers))\n",
        "\n",
        "    xerror = np.array([list(np.exp(cluster_centers[:, 0])/2)]*2)\n",
        "    yerror = np.array([list(np.exp(cluster_centers[:, 1])/2)]*2)\n",
        "\n",
        "    errorboxes = []\n",
        "\n",
        "    for x, y, xe, ye in zip(xdata, ydata, xerror.T, yerror.T):\n",
        "        rect = Rectangle((x - xe[0], y - ye[0]), xe.sum(), ye.sum())\n",
        "        errorboxes.append(rect)\n",
        "\n",
        "    pc = PatchCollection(errorboxes, facecolor='None', alpha=1, edgecolor='r')\n",
        "    fig, ax = plt.subplots(1)\n",
        "\n",
        "    ax.add_collection(pc)\n",
        "    plt.title(f'Anchor Boxes for k = {len(cluster_centers)}')\n",
        "    artists = plt.errorbar(xdata, ydata, xerr=xerror, yerr=yerror, fmt='None', ecolor='None')"
      ],
      "metadata": {
        "id": "5NwQmEvYU8Ve"
      },
      "execution_count": 15,
      "outputs": []
    },
    {
      "cell_type": "markdown",
      "source": [
        "## Anchor Boxes: 3,4,5,6,7"
      ],
      "metadata": {
        "id": "SgBa8kvqZACH"
      }
    },
    {
      "cell_type": "code",
      "source": [
        "print(\"Anchor Box sizes for k = 3\")\n",
        "scaler.inverse_transform(kmeans.cluster_centers_)\n",
        "plot_boxes(kmeans.cluster_centers_)"
      ],
      "metadata": {
        "colab": {
          "base_uri": "https://localhost:8080/",
          "height": 298
        },
        "id": "zLtp54pwW-cp",
        "outputId": "c6a217ed-5c37-4f77-a8a4-4e436457fc41"
      },
      "execution_count": 16,
      "outputs": [
        {
          "output_type": "stream",
          "name": "stdout",
          "text": [
            "Anchor Box sizes for k = 3\n"
          ]
        },
        {
          "output_type": "display_data",
          "data": {
            "image/png": "[encoded data removed]",
            "text/plain": [
              "<Figure size 432x288 with 1 Axes>"
            ]
          },
          "metadata": {
            "needs_background": "light"
          }
        }
      ]
    },
    {
      "cell_type": "code",
      "source": [
        "kmeans_4 = KMeans(n_clusters = 4, init = 'k-means++', random_state = 36)\n",
        "y_kmeans_4 = kmeans_4.fit_predict(after_scaling)\n",
        "\n",
        "print(\"Anchor Box sizes for k = 4\")\n",
        "scaler.inverse_transform(kmeans_4.cluster_centers_)\n",
        "plot_boxes(kmeans_4.cluster_centers_)"
      ],
      "metadata": {
        "colab": {
          "base_uri": "https://localhost:8080/",
          "height": 298
        },
        "id": "lwIK2ngFXBwS",
        "outputId": "110aac4b-5c17-49ae-d627-006361921f29"
      },
      "execution_count": 17,
      "outputs": [
        {
          "output_type": "stream",
          "name": "stdout",
          "text": [
            "Anchor Box sizes for k = 4\n"
          ]
        },
        {
          "output_type": "display_data",
          "data": {
            "image/png": "[encoded data removed]",
            "text/plain": [
              "<Figure size 432x288 with 1 Axes>"
            ]
          },
          "metadata": {
            "needs_background": "light"
          }
        }
      ]
    },
    {
      "cell_type": "code",
      "source": [
        "kmeans_5 = KMeans(n_clusters = 5, init = 'k-means++', random_state = 36)\n",
        "y_kmeans_5 = kmeans_5.fit_predict(after_scaling)\n",
        "\n",
        "print(\"Anchor Box sizes for k = 5\")\n",
        "scaler.inverse_transform(kmeans_5.cluster_centers_)\n",
        "plot_boxes(kmeans_5.cluster_centers_)"
      ],
      "metadata": {
        "colab": {
          "base_uri": "https://localhost:8080/",
          "height": 298
        },
        "id": "OFkQLqceXB0p",
        "outputId": "a5f8711f-cfd1-483c-dfdc-f2c92f07dc81"
      },
      "execution_count": 18,
      "outputs": [
        {
          "output_type": "stream",
          "name": "stdout",
          "text": [
            "Anchor Box sizes for k = 5\n"
          ]
        },
        {
          "output_type": "display_data",
          "data": {
            "image/png": "[encoded data removed]",
            "text/plain": [
              "<Figure size 432x288 with 1 Axes>"
            ]
          },
          "metadata": {
            "needs_background": "light"
          }
        }
      ]
    },
    {
      "cell_type": "code",
      "source": [
        "kmeans_6 = KMeans(n_clusters = 6, init = 'k-means++', random_state = 36)\n",
        "y_kmeans_6 = kmeans_6.fit_predict(after_scaling)\n",
        "\n",
        "print(\"Anchor Box sizes for k = 6\")\n",
        "scaler.inverse_transform(kmeans_6.cluster_centers_)\n",
        "plot_boxes(kmeans_6.cluster_centers_)"
      ],
      "metadata": {
        "colab": {
          "base_uri": "https://localhost:8080/",
          "height": 298
        },
        "id": "WRXlGoHsXB3J",
        "outputId": "7a69ecc0-6765-4e1b-c1ae-99634be677bd"
      },
      "execution_count": 19,
      "outputs": [
        {
          "output_type": "stream",
          "name": "stdout",
          "text": [
            "Anchor Box sizes for k = 6\n"
          ]
        },
        {
          "output_type": "display_data",
          "data": {
            "image/png": "[encoded data removed]",
            "text/plain": [
              "<Figure size 432x288 with 1 Axes>"
            ]
          },
          "metadata": {
            "needs_background": "light"
          }
        }
      ]
    },
    {
      "cell_type": "code",
      "source": [
        ""
      ],
      "metadata": {
        "id": "7acg_OjIYMXX"
      },
      "execution_count": null,
      "outputs": []
    }
  ]
}