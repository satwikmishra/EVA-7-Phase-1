{
 "cells": [
  {
   "cell_type": "code",
   "execution_count": 7,
   "metadata": {
    "id": "jq59Ymly5EjQ"
   },
   "outputs": [],
   "source": [
    "from __future__ import print_function\n",
    "import torch\n",
    "import torch.nn as nn\n",
    "import torch.nn.functional as F\n",
    "import torch.optim as optim\n",
    "from torchvision import datasets, transforms"
   ]
  },
  {
   "cell_type": "code",
   "execution_count": 15,
   "metadata": {
    "id": "5Wvj9tVz_XIa"
   },
   "outputs": [],
   "source": [
    "class Net(nn.Module):\n",
    "    def __init__(self):\n",
    "        super(Net, self).__init__()\n",
    "\n",
    "        # input - 28x28x1 output - 22x22x32\n",
    "        self.conv1 = nn.Sequential(\n",
    "            # RF - 3x3\n",
    "            nn.Conv2d(1, 16, 3, bias=False),\n",
    "            nn.BatchNorm2d(16), # 26\n",
    "            nn.ReLU(),\n",
    "            nn.Dropout2d(0.1),\n",
    "\n",
    "            # RF - 5x5\n",
    "            nn.Conv2d(16, 16, 3, bias=False), \n",
    "            nn.BatchNorm2d(16),# 24\n",
    "            nn.ReLU(),\n",
    "            nn.Dropout2d(0.1),\n",
    "\n",
    "            # RF - 7x7\n",
    "            nn.Conv2d(16, 32, 3, bias=False),\n",
    "            nn.BatchNorm2d(32),\n",
    "            nn.ReLU(),\n",
    "            nn.Dropout2d(0.1),\n",
    "        )\n",
    "\n",
    "        # translation layer\n",
    "        # input - 22x22x32 output - 11x11x16\n",
    "        self.trans1 = nn.Sequential(\n",
    "            # RF - 7x7\n",
    "            nn.Conv2d(32, 16, 1, bias=False),\n",
    "            nn.ReLU(),\n",
    "\n",
    "            # RF - 14x14\n",
    "            nn.MaxPool2d(2, 2), # 11\n",
    "        )\n",
    "        \n",
    "        # input - 11x11x16 output - 7x7x16\n",
    "        self.conv2 = nn.Sequential(\n",
    "            # RF - 16x16\n",
    "            nn.Conv2d(16, 16, 3, bias=False),\n",
    "            nn.BatchNorm2d(16), # 9\n",
    "            nn.ReLU(),\n",
    "            nn.Dropout2d(0.1),\n",
    "\n",
    "            # RF - 18x18\n",
    "            nn.Conv2d(16, 16, 3, bias=False), # 7\n",
    "            nn.BatchNorm2d(16),\n",
    "            nn.ReLU(),\n",
    "            nn.Dropout2d(0.1),\n",
    "        )\n",
    "\n",
    "        # input - 7x7x16 output - 5x5x16\n",
    "        self.conv3 = nn.Sequential(\n",
    "            # RF - 20x20\n",
    "            nn.Conv2d(16, 16, 3, padding=1, bias=False), # 5\n",
    "            nn.BatchNorm2d(16),\n",
    "            nn.ReLU(),\n",
    "            nn.Dropout2d(0.1),\n",
    "\n",
    "            # RF - 22x22\n",
    "            nn.Conv2d(16, 16, 3, bias=False), # 5\n",
    "            nn.BatchNorm2d(16),\n",
    "            nn.ReLU(),\n",
    "            nn.Dropout2d(0.1),\n",
    "        )\n",
    "\n",
    "        # GAP Layer\n",
    "        # input - 5x5x16 output - 1x1x10\n",
    "        self.avg_pool = nn.Sequential(\n",
    "            # # RF - 22x22\n",
    "            nn.Conv2d(16, 10, 1, bias=False),\n",
    "            nn.AvgPool2d(5)\n",
    "        )\n",
    "\n",
    "    \"\"\"forward: performs a forward pass when model(x) is called\n",
    "    Params\n",
    "        x: the input data\n",
    "    Returns\n",
    "        y: the output of the model\n",
    "    \"\"\"\n",
    "    def forward(self, x):\n",
    "        x = self.conv1(x)\n",
    "        x = self.trans1(x)\n",
    "        x = self.conv2(x)\n",
    "        x = self.conv3(x)\n",
    "        x = self.avg_pool(x)\n",
    "\n",
    "        x = x.view(-1, 10)\n",
    "        return F.log_softmax(x)"
   ]
  },
  {
   "cell_type": "code",
   "execution_count": 16,
   "metadata": {
    "colab": {
     "base_uri": "https://localhost:8080/"
    },
    "id": "4DRNSpCP5M6N",
    "outputId": "1e8c126a-cfdc-4ca3-dffd-99a7690149cc"
   },
   "outputs": [
    {
     "name": "stdout",
     "output_type": "stream",
     "text": [
      "Requirement already satisfied: torchsummary in /usr/local/lib/python3.7/dist-packages (1.5.1)\n",
      "----------------------------------------------------------------\n",
      "        Layer (type)               Output Shape         Param #\n",
      "================================================================\n",
      "            Conv2d-1           [-1, 16, 26, 26]             144\n",
      "       BatchNorm2d-2           [-1, 16, 26, 26]              32\n",
      "              ReLU-3           [-1, 16, 26, 26]               0\n",
      "         Dropout2d-4           [-1, 16, 26, 26]               0\n",
      "            Conv2d-5           [-1, 16, 24, 24]           2,304\n",
      "       BatchNorm2d-6           [-1, 16, 24, 24]              32\n",
      "              ReLU-7           [-1, 16, 24, 24]               0\n",
      "         Dropout2d-8           [-1, 16, 24, 24]               0\n",
      "            Conv2d-9           [-1, 32, 22, 22]           4,608\n",
      "      BatchNorm2d-10           [-1, 32, 22, 22]              64\n",
      "             ReLU-11           [-1, 32, 22, 22]               0\n",
      "        Dropout2d-12           [-1, 32, 22, 22]               0\n",
      "           Conv2d-13           [-1, 16, 22, 22]             512\n",
      "             ReLU-14           [-1, 16, 22, 22]               0\n",
      "        MaxPool2d-15           [-1, 16, 11, 11]               0\n",
      "           Conv2d-16             [-1, 16, 9, 9]           2,304\n",
      "      BatchNorm2d-17             [-1, 16, 9, 9]              32\n",
      "             ReLU-18             [-1, 16, 9, 9]               0\n",
      "        Dropout2d-19             [-1, 16, 9, 9]               0\n",
      "           Conv2d-20             [-1, 16, 7, 7]           2,304\n",
      "      BatchNorm2d-21             [-1, 16, 7, 7]              32\n",
      "             ReLU-22             [-1, 16, 7, 7]               0\n",
      "        Dropout2d-23             [-1, 16, 7, 7]               0\n",
      "           Conv2d-24             [-1, 16, 7, 7]           2,304\n",
      "      BatchNorm2d-25             [-1, 16, 7, 7]              32\n",
      "             ReLU-26             [-1, 16, 7, 7]               0\n",
      "        Dropout2d-27             [-1, 16, 7, 7]               0\n",
      "           Conv2d-28             [-1, 16, 5, 5]           2,304\n",
      "      BatchNorm2d-29             [-1, 16, 5, 5]              32\n",
      "             ReLU-30             [-1, 16, 5, 5]               0\n",
      "        Dropout2d-31             [-1, 16, 5, 5]               0\n",
      "           Conv2d-32             [-1, 10, 5, 5]             160\n",
      "        AvgPool2d-33             [-1, 10, 1, 1]               0\n",
      "================================================================\n",
      "Total params: 17,200\n",
      "Trainable params: 17,200\n",
      "Non-trainable params: 0\n",
      "----------------------------------------------------------------\n",
      "Input size (MB): 0.00\n",
      "Forward/backward pass size (MB): 1.32\n",
      "Params size (MB): 0.07\n",
      "Estimated Total Size (MB): 1.39\n",
      "----------------------------------------------------------------\n"
     ]
    },
    {
     "name": "stderr",
     "output_type": "stream",
     "text": [
      "/usr/local/lib/python3.7/dist-packages/ipykernel_launcher.py:89: UserWarning: Implicit dimension choice for log_softmax has been deprecated. Change the call to include dim=X as an argument.\n"
     ]
    }
   ],
   "source": [
    "!pip install torchsummary\n",
    "from torchsummary import summary\n",
    "use_cuda = torch.cuda.is_available()\n",
    "device = torch.device(\"cuda\" if use_cuda else \"cpu\")\n",
    "model = Net().to(device)\n",
    "summary(model, input_size=(1, 28, 28))"
   ]
  },
  {
   "cell_type": "code",
   "execution_count": 17,
   "metadata": {
    "id": "ZrXYqa8b_fvD"
   },
   "outputs": [],
   "source": [
    "torch.manual_seed(1)\n",
    "batch_size = 128\n",
    "\n",
    "kwargs = {'num_workers': 1, 'pin_memory': True} if use_cuda else {}\n",
    "train_loader = torch.utils.data.DataLoader(\n",
    "    datasets.MNIST('../data', train=True, download=True,\n",
    "                    transform=transforms.Compose([\n",
    "                        transforms.ToTensor(),\n",
    "                        transforms.Normalize((0.1307,), (0.3081,))\n",
    "                    ])),\n",
    "    batch_size=batch_size, shuffle=True, **kwargs)\n",
    "test_loader = torch.utils.data.DataLoader(\n",
    "    datasets.MNIST('../data', train=False, transform=transforms.Compose([\n",
    "                        transforms.ToTensor(),\n",
    "                        transforms.Normalize((0.1307,), (0.3081,))\n",
    "                    ])),\n",
    "    batch_size=batch_size, shuffle=True, **kwargs)\n"
   ]
  },
  {
   "cell_type": "code",
   "execution_count": 18,
   "metadata": {
    "id": "qqWKNL145U7s"
   },
   "outputs": [],
   "source": [
    "from tqdm import tqdm\n",
    "def train(model, device, train_loader, optimizer, epoch):\n",
    "    model.train()\n",
    "    pbar = tqdm(train_loader)\n",
    "    for batch_idx, (data, target) in enumerate(pbar):\n",
    "        data, target = data.to(device), target.to(device)\n",
    "        optimizer.zero_grad()\n",
    "        output = model(data)\n",
    "        loss = F.nll_loss(output, target)\n",
    "        loss.backward()\n",
    "        optimizer.step()\n",
    "        pbar.set_description(desc= f'loss={loss.item()} batch_id={batch_idx}')\n",
    "\n",
    "\n",
    "def test(model, device, test_loader):\n",
    "    model.eval()\n",
    "    test_loss = 0\n",
    "    correct = 0\n",
    "    with torch.no_grad():\n",
    "        for data, target in test_loader:\n",
    "            data, target = data.to(device), target.to(device)\n",
    "            output = model(data)\n",
    "            test_loss += F.nll_loss(output, target, reduction='sum').item()  # sum up batch loss\n",
    "            pred = output.argmax(dim=1, keepdim=True)  # get the index of the max log-probability\n",
    "            correct += pred.eq(target.view_as(pred)).sum().item()\n",
    "\n",
    "    test_loss /= len(test_loader.dataset)\n",
    "\n",
    "    print('\\nTest set: Average loss: {:.4f}, Accuracy: {}/{} ({:.0f}%)\\n'.format(\n",
    "        test_loss, correct, len(test_loader.dataset),\n",
    "        100. * correct / len(test_loader.dataset)))"
   ]
  },
  {
   "cell_type": "code",
   "execution_count": 19,
   "metadata": {
    "colab": {
     "base_uri": "https://localhost:8080/"
    },
    "id": "FPKjTAF25b4a",
    "outputId": "e6334f0e-ae5c-42de-c93b-065c23e707cc"
   },
   "outputs": [
    {
     "name": "stdout",
     "output_type": "stream",
     "text": [
      "\n",
      "Epoch 1 : \n"
     ]
    },
    {
     "name": "stderr",
     "output_type": "stream",
     "text": [
      "  0%|          | 0/469 [00:00<?, ?it/s]/usr/local/lib/python3.7/dist-packages/ipykernel_launcher.py:89: UserWarning: Implicit dimension choice for log_softmax has been deprecated. Change the call to include dim=X as an argument.\n",
      "loss=0.5276613235473633 batch_id=468: 100%|██████████| 469/469 [00:22<00:00, 20.46it/s]\n"
     ]
    },
    {
     "name": "stdout",
     "output_type": "stream",
     "text": [
      "\n",
      "Test set: Average loss: 0.1766, Accuracy: 9624/10000 (96%)\n",
      "\n",
      "\n",
      "Epoch 2 : \n"
     ]
    },
    {
     "name": "stderr",
     "output_type": "stream",
     "text": [
      "loss=0.1593027412891388 batch_id=468: 100%|██████████| 469/469 [00:23<00:00, 20.27it/s]\n"
     ]
    },
    {
     "name": "stdout",
     "output_type": "stream",
     "text": [
      "\n",
      "Test set: Average loss: 0.0730, Accuracy: 9790/10000 (98%)\n",
      "\n",
      "\n",
      "Epoch 3 : \n"
     ]
    },
    {
     "name": "stderr",
     "output_type": "stream",
     "text": [
      "loss=0.19261984527111053 batch_id=468: 100%|██████████| 469/469 [00:23<00:00, 20.34it/s]\n"
     ]
    },
    {
     "name": "stdout",
     "output_type": "stream",
     "text": [
      "\n",
      "Test set: Average loss: 0.0524, Accuracy: 9841/10000 (98%)\n",
      "\n",
      "\n",
      "Epoch 4 : \n"
     ]
    },
    {
     "name": "stderr",
     "output_type": "stream",
     "text": [
      "loss=0.12021256238222122 batch_id=468: 100%|██████████| 469/469 [00:23<00:00, 20.32it/s]\n"
     ]
    },
    {
     "name": "stdout",
     "output_type": "stream",
     "text": [
      "\n",
      "Test set: Average loss: 0.0428, Accuracy: 9870/10000 (99%)\n",
      "\n",
      "\n",
      "Epoch 5 : \n"
     ]
    },
    {
     "name": "stderr",
     "output_type": "stream",
     "text": [
      "loss=0.16076913475990295 batch_id=468: 100%|██████████| 469/469 [00:23<00:00, 20.30it/s]\n"
     ]
    },
    {
     "name": "stdout",
     "output_type": "stream",
     "text": [
      "\n",
      "Test set: Average loss: 0.0398, Accuracy: 9873/10000 (99%)\n",
      "\n",
      "\n",
      "Epoch 6 : \n"
     ]
    },
    {
     "name": "stderr",
     "output_type": "stream",
     "text": [
      "loss=0.13687188923358917 batch_id=468: 100%|██████████| 469/469 [00:23<00:00, 20.28it/s]\n"
     ]
    },
    {
     "name": "stdout",
     "output_type": "stream",
     "text": [
      "\n",
      "Test set: Average loss: 0.0327, Accuracy: 9904/10000 (99%)\n",
      "\n",
      "\n",
      "Epoch 7 : \n"
     ]
    },
    {
     "name": "stderr",
     "output_type": "stream",
     "text": [
      "loss=0.11731744557619095 batch_id=468: 100%|██████████| 469/469 [00:23<00:00, 20.39it/s]\n"
     ]
    },
    {
     "name": "stdout",
     "output_type": "stream",
     "text": [
      "\n",
      "Test set: Average loss: 0.0327, Accuracy: 9906/10000 (99%)\n",
      "\n",
      "\n",
      "Epoch 8 : \n"
     ]
    },
    {
     "name": "stderr",
     "output_type": "stream",
     "text": [
      "loss=0.05470525845885277 batch_id=468: 100%|██████████| 469/469 [00:22<00:00, 20.40it/s]\n"
     ]
    },
    {
     "name": "stdout",
     "output_type": "stream",
     "text": [
      "\n",
      "Test set: Average loss: 0.0301, Accuracy: 9907/10000 (99%)\n",
      "\n",
      "\n",
      "Epoch 9 : \n"
     ]
    },
    {
     "name": "stderr",
     "output_type": "stream",
     "text": [
      "loss=0.08056213706731796 batch_id=468: 100%|██████████| 469/469 [00:23<00:00, 20.11it/s]\n"
     ]
    },
    {
     "name": "stdout",
     "output_type": "stream",
     "text": [
      "\n",
      "Test set: Average loss: 0.0276, Accuracy: 9912/10000 (99%)\n",
      "\n",
      "\n",
      "Epoch 10 : \n"
     ]
    },
    {
     "name": "stderr",
     "output_type": "stream",
     "text": [
      "loss=0.06410060077905655 batch_id=468: 100%|██████████| 469/469 [00:23<00:00, 20.22it/s]\n"
     ]
    },
    {
     "name": "stdout",
     "output_type": "stream",
     "text": [
      "\n",
      "Test set: Average loss: 0.0275, Accuracy: 9917/10000 (99%)\n",
      "\n",
      "\n",
      "Epoch 11 : \n"
     ]
    },
    {
     "name": "stderr",
     "output_type": "stream",
     "text": [
      "loss=0.20647625625133514 batch_id=468: 100%|██████████| 469/469 [00:23<00:00, 20.22it/s]\n"
     ]
    },
    {
     "name": "stdout",
     "output_type": "stream",
     "text": [
      "\n",
      "Test set: Average loss: 0.0247, Accuracy: 9914/10000 (99%)\n",
      "\n",
      "\n",
      "Epoch 12 : \n"
     ]
    },
    {
     "name": "stderr",
     "output_type": "stream",
     "text": [
      "loss=0.14023399353027344 batch_id=468: 100%|██████████| 469/469 [00:23<00:00, 20.24it/s]\n"
     ]
    },
    {
     "name": "stdout",
     "output_type": "stream",
     "text": [
      "\n",
      "Test set: Average loss: 0.0267, Accuracy: 9916/10000 (99%)\n",
      "\n",
      "\n",
      "Epoch 13 : \n"
     ]
    },
    {
     "name": "stderr",
     "output_type": "stream",
     "text": [
      "loss=0.08286576718091965 batch_id=468: 100%|██████████| 469/469 [00:23<00:00, 20.04it/s]\n"
     ]
    },
    {
     "name": "stdout",
     "output_type": "stream",
     "text": [
      "\n",
      "Test set: Average loss: 0.0270, Accuracy: 9907/10000 (99%)\n",
      "\n",
      "\n",
      "Epoch 14 : \n"
     ]
    },
    {
     "name": "stderr",
     "output_type": "stream",
     "text": [
      "loss=0.12196990102529526 batch_id=468: 100%|██████████| 469/469 [00:23<00:00, 20.03it/s]\n"
     ]
    },
    {
     "name": "stdout",
     "output_type": "stream",
     "text": [
      "\n",
      "Test set: Average loss: 0.0253, Accuracy: 9924/10000 (99%)\n",
      "\n",
      "\n",
      "Epoch 15 : \n"
     ]
    },
    {
     "name": "stderr",
     "output_type": "stream",
     "text": [
      "loss=0.09270372241735458 batch_id=468: 100%|██████████| 469/469 [00:23<00:00, 20.14it/s]\n"
     ]
    },
    {
     "name": "stdout",
     "output_type": "stream",
     "text": [
      "\n",
      "Test set: Average loss: 0.0241, Accuracy: 9925/10000 (99%)\n",
      "\n",
      "\n",
      "Epoch 16 : \n"
     ]
    },
    {
     "name": "stderr",
     "output_type": "stream",
     "text": [
      "loss=0.15394991636276245 batch_id=468: 100%|██████████| 469/469 [00:23<00:00, 20.18it/s]\n"
     ]
    },
    {
     "name": "stdout",
     "output_type": "stream",
     "text": [
      "\n",
      "Test set: Average loss: 0.0232, Accuracy: 9929/10000 (99%)\n",
      "\n",
      "\n",
      "Epoch 17 : \n"
     ]
    },
    {
     "name": "stderr",
     "output_type": "stream",
     "text": [
      "loss=0.052446816116571426 batch_id=468: 100%|██████████| 469/469 [00:23<00:00, 20.06it/s]\n"
     ]
    },
    {
     "name": "stdout",
     "output_type": "stream",
     "text": [
      "\n",
      "Test set: Average loss: 0.0218, Accuracy: 9929/10000 (99%)\n",
      "\n",
      "\n",
      "Epoch 18 : \n"
     ]
    },
    {
     "name": "stderr",
     "output_type": "stream",
     "text": [
      "loss=0.12568457424640656 batch_id=468: 100%|██████████| 469/469 [00:23<00:00, 20.10it/s]\n"
     ]
    },
    {
     "name": "stdout",
     "output_type": "stream",
     "text": [
      "\n",
      "Test set: Average loss: 0.0229, Accuracy: 9929/10000 (99%)\n",
      "\n",
      "\n",
      "Epoch 19 : \n"
     ]
    },
    {
     "name": "stderr",
     "output_type": "stream",
     "text": [
      "loss=0.09060657769441605 batch_id=468: 100%|██████████| 469/469 [00:23<00:00, 20.07it/s]\n"
     ]
    },
    {
     "name": "stdout",
     "output_type": "stream",
     "text": [
      "\n",
      "Test set: Average loss: 0.0252, Accuracy: 9926/10000 (99%)\n",
      "\n",
      "\n",
      "Epoch 20 : \n"
     ]
    },
    {
     "name": "stderr",
     "output_type": "stream",
     "text": [
      "loss=0.11311253160238266 batch_id=468: 100%|██████████| 469/469 [00:23<00:00, 20.14it/s]\n"
     ]
    },
    {
     "name": "stdout",
     "output_type": "stream",
     "text": [
      "\n",
      "Test set: Average loss: 0.0221, Accuracy: 9926/10000 (99%)\n",
      "\n"
     ]
    }
   ],
   "source": [
    "# move the model to the specified device\n",
    "model = Net().to(device)\n",
    "\n",
    "# use Stochastic Gradient Descent as the optimizer\n",
    "# learning_rate=0.02 and momentum=0.7 for SGD\n",
    "optimizer = optim.SGD(model.parameters(), lr=0.01, momentum=0.9)\n",
    "\n",
    "# set the number of epochs to train for\n",
    "n_epoch = 20\n",
    "\n",
    "# run it for N_EPOCH number of times\n",
    "for epoch in range(1, n_epoch+1):\n",
    "    print('\\nEpoch {} : '.format(epoch))\n",
    "    # train the model\n",
    "    train(model, device, train_loader, optimizer, epoch)\n",
    "    # test the model\n",
    "    test(model, device, test_loader)"
   ]
  },
  {
   "cell_type": "code",
   "execution_count": null,
   "metadata": {
    "id": "bXLVAvCD-zkq"
   },
   "outputs": [],
   "source": []
  }
 ],
 "metadata": {
  "accelerator": "GPU",
  "colab": {
   "collapsed_sections": [],
   "name": "Untitled7.ipynb",
   "provenance": []
  },
  "kernelspec": {
   "display_name": "Python 3",
   "language": "python",
   "name": "python3"
  },
  "language_info": {
   "codemirror_mode": {
    "name": "ipython",
    "version": 3
   },
   "file_extension": ".py",
   "mimetype": "text/x-python",
   "name": "python",
   "nbconvert_exporter": "python",
   "pygments_lexer": "ipython3",
   "version": "3.8.5"
  }
 },
 "nbformat": 4,
 "nbformat_minor": 1
}
