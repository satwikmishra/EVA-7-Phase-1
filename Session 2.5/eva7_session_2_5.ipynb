{
  "nbformat": 4,
  "nbformat_minor": 0,
  "metadata": {
    "colab": {
      "name": "eva7_assignment_2_5.ipynb",
      "provenance": []
    },
    "kernelspec": {
      "name": "python3",
      "display_name": "Python 3"
    },
    "language_info": {
      "name": "python"
    },
    "accelerator": "GPU",
    "widgets": {
      "application/vnd.jupyter.widget-state+json": {
        "d4463aefd0264fe18de5bc6479cd2de9": {
          "model_module": "@jupyter-widgets/controls",
          "model_name": "HBoxModel",
          "model_module_version": "1.5.0",
          "state": {
            "_view_name": "HBoxView",
            "_dom_classes": [],
            "_model_name": "HBoxModel",
            "_view_module": "@jupyter-widgets/controls",
            "_model_module_version": "1.5.0",
            "_view_count": null,
            "_view_module_version": "1.5.0",
            "box_style": "",
            "layout": "IPY_MODEL_16054b8170094a4aa92e0e7a620f99fa",
            "_model_module": "@jupyter-widgets/controls",
            "children": [
              "IPY_MODEL_26b67a81afb04f2f880286a4c70144d3",
              "IPY_MODEL_999bb0ac1dd145d99313246e65cde406",
              "IPY_MODEL_78722670dbc147b0962563aa5a9fe7d5"
            ]
          }
        },
        "16054b8170094a4aa92e0e7a620f99fa": {
          "model_module": "@jupyter-widgets/base",
          "model_name": "LayoutModel",
          "model_module_version": "1.2.0",
          "state": {
            "_view_name": "LayoutView",
            "grid_template_rows": null,
            "right": null,
            "justify_content": null,
            "_view_module": "@jupyter-widgets/base",
            "overflow": null,
            "_model_module_version": "1.2.0",
            "_view_count": null,
            "flex_flow": null,
            "width": null,
            "min_width": null,
            "border": null,
            "align_items": null,
            "bottom": null,
            "_model_module": "@jupyter-widgets/base",
            "top": null,
            "grid_column": null,
            "overflow_y": null,
            "overflow_x": null,
            "grid_auto_flow": null,
            "grid_area": null,
            "grid_template_columns": null,
            "flex": null,
            "_model_name": "LayoutModel",
            "justify_items": null,
            "grid_row": null,
            "max_height": null,
            "align_content": null,
            "visibility": null,
            "align_self": null,
            "height": null,
            "min_height": null,
            "padding": null,
            "grid_auto_rows": null,
            "grid_gap": null,
            "max_width": null,
            "order": null,
            "_view_module_version": "1.2.0",
            "grid_template_areas": null,
            "object_position": null,
            "object_fit": null,
            "grid_auto_columns": null,
            "margin": null,
            "display": null,
            "left": null
          }
        },
        "26b67a81afb04f2f880286a4c70144d3": {
          "model_module": "@jupyter-widgets/controls",
          "model_name": "HTMLModel",
          "model_module_version": "1.5.0",
          "state": {
            "_view_name": "HTMLView",
            "style": "IPY_MODEL_e7cf948621dd49118ba075148042fb36",
            "_dom_classes": [],
            "description": "",
            "_model_name": "HTMLModel",
            "placeholder": "​",
            "_view_module": "@jupyter-widgets/controls",
            "_model_module_version": "1.5.0",
            "value": "",
            "_view_count": null,
            "_view_module_version": "1.5.0",
            "description_tooltip": null,
            "_model_module": "@jupyter-widgets/controls",
            "layout": "IPY_MODEL_8f80a67a29464937b9af451dc42132b8"
          }
        },
        "999bb0ac1dd145d99313246e65cde406": {
          "model_module": "@jupyter-widgets/controls",
          "model_name": "FloatProgressModel",
          "model_module_version": "1.5.0",
          "state": {
            "_view_name": "ProgressView",
            "style": "IPY_MODEL_f54933f9fbdb41c58433ccb27b5d3ad6",
            "_dom_classes": [],
            "description": "",
            "_model_name": "FloatProgressModel",
            "bar_style": "success",
            "max": 9912422,
            "_view_module": "@jupyter-widgets/controls",
            "_model_module_version": "1.5.0",
            "value": 9912422,
            "_view_count": null,
            "_view_module_version": "1.5.0",
            "orientation": "horizontal",
            "min": 0,
            "description_tooltip": null,
            "_model_module": "@jupyter-widgets/controls",
            "layout": "IPY_MODEL_918756dcbc40483c9761c801bee8d5cb"
          }
        },
        "78722670dbc147b0962563aa5a9fe7d5": {
          "model_module": "@jupyter-widgets/controls",
          "model_name": "HTMLModel",
          "model_module_version": "1.5.0",
          "state": {
            "_view_name": "HTMLView",
            "style": "IPY_MODEL_f12676608e4749638decf4e6f3900c2f",
            "_dom_classes": [],
            "description": "",
            "_model_name": "HTMLModel",
            "placeholder": "​",
            "_view_module": "@jupyter-widgets/controls",
            "_model_module_version": "1.5.0",
            "value": " 9913344/? [00:00&lt;00:00, 17868140.01it/s]",
            "_view_count": null,
            "_view_module_version": "1.5.0",
            "description_tooltip": null,
            "_model_module": "@jupyter-widgets/controls",
            "layout": "IPY_MODEL_023788e4589142699c186420c12aa934"
          }
        },
        "e7cf948621dd49118ba075148042fb36": {
          "model_module": "@jupyter-widgets/controls",
          "model_name": "DescriptionStyleModel",
          "model_module_version": "1.5.0",
          "state": {
            "_view_name": "StyleView",
            "_model_name": "DescriptionStyleModel",
            "description_width": "",
            "_view_module": "@jupyter-widgets/base",
            "_model_module_version": "1.5.0",
            "_view_count": null,
            "_view_module_version": "1.2.0",
            "_model_module": "@jupyter-widgets/controls"
          }
        },
        "8f80a67a29464937b9af451dc42132b8": {
          "model_module": "@jupyter-widgets/base",
          "model_name": "LayoutModel",
          "model_module_version": "1.2.0",
          "state": {
            "_view_name": "LayoutView",
            "grid_template_rows": null,
            "right": null,
            "justify_content": null,
            "_view_module": "@jupyter-widgets/base",
            "overflow": null,
            "_model_module_version": "1.2.0",
            "_view_count": null,
            "flex_flow": null,
            "width": null,
            "min_width": null,
            "border": null,
            "align_items": null,
            "bottom": null,
            "_model_module": "@jupyter-widgets/base",
            "top": null,
            "grid_column": null,
            "overflow_y": null,
            "overflow_x": null,
            "grid_auto_flow": null,
            "grid_area": null,
            "grid_template_columns": null,
            "flex": null,
            "_model_name": "LayoutModel",
            "justify_items": null,
            "grid_row": null,
            "max_height": null,
            "align_content": null,
            "visibility": null,
            "align_self": null,
            "height": null,
            "min_height": null,
            "padding": null,
            "grid_auto_rows": null,
            "grid_gap": null,
            "max_width": null,
            "order": null,
            "_view_module_version": "1.2.0",
            "grid_template_areas": null,
            "object_position": null,
            "object_fit": null,
            "grid_auto_columns": null,
            "margin": null,
            "display": null,
            "left": null
          }
        },
        "f54933f9fbdb41c58433ccb27b5d3ad6": {
          "model_module": "@jupyter-widgets/controls",
          "model_name": "ProgressStyleModel",
          "model_module_version": "1.5.0",
          "state": {
            "_view_name": "StyleView",
            "_model_name": "ProgressStyleModel",
            "description_width": "",
            "_view_module": "@jupyter-widgets/base",
            "_model_module_version": "1.5.0",
            "_view_count": null,
            "_view_module_version": "1.2.0",
            "bar_color": null,
            "_model_module": "@jupyter-widgets/controls"
          }
        },
        "918756dcbc40483c9761c801bee8d5cb": {
          "model_module": "@jupyter-widgets/base",
          "model_name": "LayoutModel",
          "model_module_version": "1.2.0",
          "state": {
            "_view_name": "LayoutView",
            "grid_template_rows": null,
            "right": null,
            "justify_content": null,
            "_view_module": "@jupyter-widgets/base",
            "overflow": null,
            "_model_module_version": "1.2.0",
            "_view_count": null,
            "flex_flow": null,
            "width": null,
            "min_width": null,
            "border": null,
            "align_items": null,
            "bottom": null,
            "_model_module": "@jupyter-widgets/base",
            "top": null,
            "grid_column": null,
            "overflow_y": null,
            "overflow_x": null,
            "grid_auto_flow": null,
            "grid_area": null,
            "grid_template_columns": null,
            "flex": null,
            "_model_name": "LayoutModel",
            "justify_items": null,
            "grid_row": null,
            "max_height": null,
            "align_content": null,
            "visibility": null,
            "align_self": null,
            "height": null,
            "min_height": null,
            "padding": null,
            "grid_auto_rows": null,
            "grid_gap": null,
            "max_width": null,
            "order": null,
            "_view_module_version": "1.2.0",
            "grid_template_areas": null,
            "object_position": null,
            "object_fit": null,
            "grid_auto_columns": null,
            "margin": null,
            "display": null,
            "left": null
          }
        },
        "f12676608e4749638decf4e6f3900c2f": {
          "model_module": "@jupyter-widgets/controls",
          "model_name": "DescriptionStyleModel",
          "model_module_version": "1.5.0",
          "state": {
            "_view_name": "StyleView",
            "_model_name": "DescriptionStyleModel",
            "description_width": "",
            "_view_module": "@jupyter-widgets/base",
            "_model_module_version": "1.5.0",
            "_view_count": null,
            "_view_module_version": "1.2.0",
            "_model_module": "@jupyter-widgets/controls"
          }
        },
        "023788e4589142699c186420c12aa934": {
          "model_module": "@jupyter-widgets/base",
          "model_name": "LayoutModel",
          "model_module_version": "1.2.0",
          "state": {
            "_view_name": "LayoutView",
            "grid_template_rows": null,
            "right": null,
            "justify_content": null,
            "_view_module": "@jupyter-widgets/base",
            "overflow": null,
            "_model_module_version": "1.2.0",
            "_view_count": null,
            "flex_flow": null,
            "width": null,
            "min_width": null,
            "border": null,
            "align_items": null,
            "bottom": null,
            "_model_module": "@jupyter-widgets/base",
            "top": null,
            "grid_column": null,
            "overflow_y": null,
            "overflow_x": null,
            "grid_auto_flow": null,
            "grid_area": null,
            "grid_template_columns": null,
            "flex": null,
            "_model_name": "LayoutModel",
            "justify_items": null,
            "grid_row": null,
            "max_height": null,
            "align_content": null,
            "visibility": null,
            "align_self": null,
            "height": null,
            "min_height": null,
            "padding": null,
            "grid_auto_rows": null,
            "grid_gap": null,
            "max_width": null,
            "order": null,
            "_view_module_version": "1.2.0",
            "grid_template_areas": null,
            "object_position": null,
            "object_fit": null,
            "grid_auto_columns": null,
            "margin": null,
            "display": null,
            "left": null
          }
        }
      }
    }
  },
  "cells": [
    {
      "cell_type": "markdown",
      "metadata": {
        "id": "Le56OQLW3I5N"
      },
      "source": [
        "# Import all necessary packages required"
      ]
    },
    {
      "cell_type": "code",
      "metadata": {
        "id": "_sErGR013GuR"
      },
      "source": [
        "import numpy as np\n",
        "import matplotlib.pyplot as plt\n",
        "import random \n",
        "\n",
        "import torch\n",
        "import torchvision\n",
        "# import torchvision.transforms as transforms\n",
        "import torch.nn as nn\n",
        "import torch.nn.functional as F  \n",
        "from torchvision import transforms,datasets\n",
        "\n",
        "from torch.utils.data import Dataset, TensorDataset, DataLoader\n"
      ],
      "execution_count": 1,
      "outputs": []
    },
    {
      "cell_type": "markdown",
      "metadata": {
        "id": "DyFbuBG729vQ"
      },
      "source": [
        "# Ensure the availability of Cuda"
      ]
    },
    {
      "cell_type": "code",
      "metadata": {
        "id": "OFaKFp5A24Za"
      },
      "source": [
        "use_cuda = torch.cuda.is_available()\n",
        "device = torch.device(\"cuda\" if use_cuda else \"cpu\")"
      ],
      "execution_count": 2,
      "outputs": []
    },
    {
      "cell_type": "code",
      "metadata": {
        "colab": {
          "base_uri": "https://localhost:8080/"
        },
        "id": "ToqE6vqKjud1",
        "outputId": "bcbf7256-7d52-4725-b713-dd7426550c3d"
      },
      "source": [
        "device"
      ],
      "execution_count": 3,
      "outputs": [
        {
          "output_type": "execute_result",
          "data": {
            "text/plain": [
              "device(type='cuda')"
            ]
          },
          "metadata": {},
          "execution_count": 3
        }
      ]
    },
    {
      "cell_type": "markdown",
      "metadata": {
        "id": "HLh-ooHL3mtp"
      },
      "source": [
        "# Dataset Preparation"
      ]
    },
    {
      "cell_type": "markdown",
      "metadata": {
        "id": "RWgM6Rrz3q5P"
      },
      "source": [
        "The primary task is to fetch the data. Here we use the MNIST dataset which contains 70,000 images of handwritten digits. The data we fetch is not natively in tensor and so we need to convert it to that. So we'll be doing transforms.ToTensor() here. Let's go ahead and split them into train and test. Always remember that the test set is a new sample that the model has never seen before. Refer this for normalisation: https://discuss.pytorch.org/t/normalization-in-the-mnist-example/457/11. "
      ]
    },
    {
      "cell_type": "code",
      "metadata": {
        "id": "oC5OujAH5QjT"
      },
      "source": [
        "train_transform = transforms.Compose([transforms.ToTensor(),transforms.Normalize((0.1307,),(0.3081,))])\n",
        "test_transform = transforms.Compose([transforms.ToTensor(),transforms.Normalize((0.1307,),(0.3081,))])"
      ],
      "execution_count": 4,
      "outputs": []
    },
    {
      "cell_type": "code",
      "metadata": {
        "colab": {
          "base_uri": "https://localhost:8080/",
          "height": 457,
          "referenced_widgets": [
            "d4463aefd0264fe18de5bc6479cd2de9",
            "16054b8170094a4aa92e0e7a620f99fa",
            "26b67a81afb04f2f880286a4c70144d3",
            "999bb0ac1dd145d99313246e65cde406",
            "78722670dbc147b0962563aa5a9fe7d5",
            "e7cf948621dd49118ba075148042fb36",
            "8f80a67a29464937b9af451dc42132b8",
            "f54933f9fbdb41c58433ccb27b5d3ad6",
            "918756dcbc40483c9761c801bee8d5cb",
            "f12676608e4749638decf4e6f3900c2f",
            "023788e4589142699c186420c12aa934"
          ]
        },
        "id": "AuB-JCQj3pLn",
        "outputId": "d5c3438b-6e42-4233-937c-e0f003a087f4"
      },
      "source": [
        "train = datasets.MNIST(\"\",train=True,download=True,transform=train_transform)\n",
        "test = datasets.MNIST(\"\",train=False,download=True,transform=test_transform)"
      ],
      "execution_count": 5,
      "outputs": [
        {
          "output_type": "stream",
          "name": "stdout",
          "text": [
            "Downloading http://yann.lecun.com/exdb/mnist/train-images-idx3-ubyte.gz\n",
            "Downloading http://yann.lecun.com/exdb/mnist/train-images-idx3-ubyte.gz to MNIST/raw/train-images-idx3-ubyte.gz\n"
          ]
        },
        {
          "output_type": "display_data",
          "data": {
            "application/vnd.jupyter.widget-view+json": {
              "model_id": "d4463aefd0264fe18de5bc6479cd2de9",
              "version_minor": 0,
              "version_major": 2
            },
            "text/plain": [
              "  0%|          | 0/9912422 [00:00<?, ?it/s]"
            ]
          },
          "metadata": {}
        },
        {
          "output_type": "stream",
          "name": "stdout",
          "text": [
            "Extracting MNIST/raw/train-images-idx3-ubyte.gz to MNIST/raw\n",
            "\n",
            "Downloading http://yann.lecun.com/exdb/mnist/train-labels-idx1-ubyte.gz\n",
            "Downloading http://yann.lecun.com/exdb/mnist/train-labels-idx1-ubyte.gz to MNIST/raw/train-labels-idx1-ubyte.gz\n"
          ]
        },
        {
          "output_type": "display_data",
          "data": {
            "application/vnd.jupyter.widget-view+json": {
              "model_id": "8e16c8e5ce974c829219259b443bc77b",
              "version_minor": 0,
              "version_major": 2
            },
            "text/plain": [
              "  0%|          | 0/28881 [00:00<?, ?it/s]"
            ]
          },
          "metadata": {}
        },
        {
          "output_type": "stream",
          "name": "stdout",
          "text": [
            "Extracting MNIST/raw/train-labels-idx1-ubyte.gz to MNIST/raw\n",
            "\n",
            "Downloading http://yann.lecun.com/exdb/mnist/t10k-images-idx3-ubyte.gz\n",
            "Downloading http://yann.lecun.com/exdb/mnist/t10k-images-idx3-ubyte.gz to MNIST/raw/t10k-images-idx3-ubyte.gz\n"
          ]
        },
        {
          "output_type": "display_data",
          "data": {
            "application/vnd.jupyter.widget-view+json": {
              "model_id": "048ac223984e479880aa0a7c917968ec",
              "version_minor": 0,
              "version_major": 2
            },
            "text/plain": [
              "  0%|          | 0/1648877 [00:00<?, ?it/s]"
            ]
          },
          "metadata": {}
        },
        {
          "output_type": "stream",
          "name": "stdout",
          "text": [
            "Extracting MNIST/raw/t10k-images-idx3-ubyte.gz to MNIST/raw\n",
            "\n",
            "Downloading http://yann.lecun.com/exdb/mnist/t10k-labels-idx1-ubyte.gz\n",
            "Downloading http://yann.lecun.com/exdb/mnist/t10k-labels-idx1-ubyte.gz to MNIST/raw/t10k-labels-idx1-ubyte.gz\n"
          ]
        },
        {
          "output_type": "display_data",
          "data": {
            "application/vnd.jupyter.widget-view+json": {
              "model_id": "903211e3cba34866bd1d66320646c07f",
              "version_minor": 0,
              "version_major": 2
            },
            "text/plain": [
              "  0%|          | 0/4542 [00:00<?, ?it/s]"
            ]
          },
          "metadata": {}
        },
        {
          "output_type": "stream",
          "name": "stdout",
          "text": [
            "Extracting MNIST/raw/t10k-labels-idx1-ubyte.gz to MNIST/raw\n",
            "\n"
          ]
        },
        {
          "output_type": "stream",
          "name": "stderr",
          "text": [
            "/usr/local/lib/python3.7/dist-packages/torchvision/datasets/mnist.py:498: UserWarning: The given NumPy array is not writeable, and PyTorch does not support non-writeable tensors. This means you can write to the underlying (supposedly non-writeable) NumPy array using the tensor. You may want to copy the array to protect its data or make it writeable before converting it to a tensor. This type of warning will be suppressed for the rest of this program. (Triggered internally at  /pytorch/torch/csrc/utils/tensor_numpy.cpp:180.)\n",
            "  return torch.from_numpy(parsed.astype(m[2], copy=False)).view(*s)\n"
          ]
        }
      ]
    },
    {
      "cell_type": "code",
      "metadata": {
        "id": "TtmYUKb18Xtc"
      },
      "source": [
        "trainset = torch.utils.data.DataLoader(train,batch_size=2,shuffle=True)\n",
        "testset = torch.utils.data.DataLoader(test,batch_size=2,shuffle=True)"
      ],
      "execution_count": 6,
      "outputs": []
    },
    {
      "cell_type": "markdown",
      "metadata": {
        "id": "sp81_Wht9Rmf"
      },
      "source": [
        "# Verify if the data fetch was successful "
      ]
    },
    {
      "cell_type": "code",
      "metadata": {
        "colab": {
          "base_uri": "https://localhost:8080/"
        },
        "id": "mJ-6cms88n-o",
        "outputId": "d7c42866-8b10-43ad-b375-6f66da342b73"
      },
      "source": [
        "for data in trainset:\n",
        "  print(data)\n",
        "  break\n"
      ],
      "execution_count": 7,
      "outputs": [
        {
          "output_type": "stream",
          "name": "stdout",
          "text": [
            "[tensor([[[[-0.4242, -0.4242, -0.4242,  ..., -0.4242, -0.4242, -0.4242],\n",
            "          [-0.4242, -0.4242, -0.4242,  ..., -0.4242, -0.4242, -0.4242],\n",
            "          [-0.4242, -0.4242, -0.4242,  ..., -0.4242, -0.4242, -0.4242],\n",
            "          ...,\n",
            "          [-0.4242, -0.4242, -0.4242,  ..., -0.4242, -0.4242, -0.4242],\n",
            "          [-0.4242, -0.4242, -0.4242,  ..., -0.4242, -0.4242, -0.4242],\n",
            "          [-0.4242, -0.4242, -0.4242,  ..., -0.4242, -0.4242, -0.4242]]],\n",
            "\n",
            "\n",
            "        [[[-0.4242, -0.4242, -0.4242,  ..., -0.4242, -0.4242, -0.4242],\n",
            "          [-0.4242, -0.4242, -0.4242,  ..., -0.4242, -0.4242, -0.4242],\n",
            "          [-0.4242, -0.4242, -0.4242,  ..., -0.4242, -0.4242, -0.4242],\n",
            "          ...,\n",
            "          [-0.4242, -0.4242, -0.4242,  ..., -0.4242, -0.4242, -0.4242],\n",
            "          [-0.4242, -0.4242, -0.4242,  ..., -0.4242, -0.4242, -0.4242],\n",
            "          [-0.4242, -0.4242, -0.4242,  ..., -0.4242, -0.4242, -0.4242]]]]), tensor([3, 6])]\n"
          ]
        }
      ]
    },
    {
      "cell_type": "code",
      "metadata": {
        "id": "SK9IY9TO9JTu"
      },
      "source": [
        "x,y = data[0][0],data[1][0]"
      ],
      "execution_count": 8,
      "outputs": []
    },
    {
      "cell_type": "code",
      "metadata": {
        "colab": {
          "base_uri": "https://localhost:8080/",
          "height": 281
        },
        "id": "GH2261zP9Nyp",
        "outputId": "e5a53790-9b5f-4f5c-d40a-5aef0eb9afac"
      },
      "source": [
        "plt.imshow(x.view(28,28))"
      ],
      "execution_count": 9,
      "outputs": [
        {
          "output_type": "execute_result",
          "data": {
            "text/plain": [
              "<matplotlib.image.AxesImage at 0x7fe0eba8ff10>"
            ]
          },
          "metadata": {},
          "execution_count": 9
        },
        {
          "output_type": "display_data",
          "data": {
            "image/png": "[encoded data removed]",
            "text/plain": [
              "<Figure size 432x288 with 1 Axes>"
            ]
          },
          "metadata": {
            "needs_background": "light"
          }
        }
      ]
    },
    {
      "cell_type": "code",
      "metadata": {
        "colab": {
          "base_uri": "https://localhost:8080/"
        },
        "id": "O0zn7oRy9PGB",
        "outputId": "b30b4f79-f80c-4630-fa73-ed9fc1745a7d"
      },
      "source": [
        "y"
      ],
      "execution_count": 10,
      "outputs": [
        {
          "output_type": "execute_result",
          "data": {
            "text/plain": [
              "tensor(3)"
            ]
          },
          "metadata": {},
          "execution_count": 10
        }
      ]
    },
    {
      "cell_type": "markdown",
      "metadata": {
        "id": "L2T296U99jEA"
      },
      "source": [
        "We can see that the data and the label has loaded successfully. We can continue to the next step. We used view here which is similar to reshape in numpy. Note the shape intially is (1,28,28) so we reshape to (28,28) to view the image. \n"
      ]
    },
    {
      "cell_type": "markdown",
      "metadata": {
        "id": "RCQ70Y_q97ck"
      },
      "source": [
        "# Create the random MNIST Dataset ( Using classes )"
      ]
    },
    {
      "cell_type": "code",
      "metadata": {
        "id": "LjSYqTwN-AAh"
      },
      "source": [
        "class MNISTDataset(Dataset):\n",
        "  def __init__(self,mnistdataset):\n",
        "    self.mnistdataset = mnistdataset\n",
        " \n",
        "  def __getitem__(self,index):\n",
        "    image = self.mnistdataset[index][0]\n",
        "    label = self.mnistdataset[index][1]\n",
        "    random_number = random.randint(0,9)\n",
        "    \n",
        "    one_hot_random_number = torch.nn.functional.one_hot(torch.arange(0,10))\n",
        "\n",
        "    sum = label + random_number\n",
        "    return image,label,one_hot_random_number[random_number],sum\n",
        "\n",
        "  def __len__(self):\n",
        "    return len(self.mnistdataset)"
      ],
      "execution_count": 11,
      "outputs": []
    },
    {
      "cell_type": "code",
      "metadata": {
        "id": "WuTyoRrwAEB_"
      },
      "source": [
        "train_dataset = MNISTDataset(train)\n",
        "test_dataset = MNISTDataset(test)"
      ],
      "execution_count": 12,
      "outputs": []
    },
    {
      "cell_type": "markdown",
      "metadata": {
        "id": "iUlcvtmRBIOU"
      },
      "source": [
        "We already have our train and test dataset. We need the loaders below to help us iterate through the dataset. We use shuffle so that the data is different and not all of a single type, this way the model doesn't ending up recognising only one kind of data as and when it is fed. "
      ]
    },
    {
      "cell_type": "code",
      "metadata": {
        "id": "-UsBX22WArw6"
      },
      "source": [
        "train_loader = DataLoader(train_dataset,batch_size=128,shuffle=True)\n",
        "test_loader = DataLoader(test_dataset,batch_size=128,shuffle=True)"
      ],
      "execution_count": 13,
      "outputs": []
    },
    {
      "cell_type": "code",
      "metadata": {
        "colab": {
          "base_uri": "https://localhost:8080/"
        },
        "id": "dbHL8oWwB09r",
        "outputId": "2216a8ec-a64c-47bc-8ea7-19b6974778e6"
      },
      "source": [
        "data_iterator = iter(train_loader)\n",
        "images,labels,randomnumbers,sum = data_iterator.next()\n",
        "\n",
        "print(\"Sum:\",sum)\n",
        "print(\"Images:\",images)\n",
        "print(\"Labels:\",labels)\n",
        "print(\"Random Numbers:\",randomnumbers)\n",
        "\n",
        "print(\"\\n\")\n",
        "print(\"************\")\n",
        "print(\"Sum:\",sum)\n",
        "print(\"Images:\",images)\n",
        "print(\"Labels:\",labels)\n",
        "print(\"Random Numbers:\",randomnumbers)\n",
        "\n",
        "\n"
      ],
      "execution_count": 14,
      "outputs": [
        {
          "output_type": "stream",
          "name": "stdout",
          "text": [
            "Sum: tensor([ 8, 13, 14, 15, 13,  4,  6,  6,  7, 10,  9,  9,  6,  7,  0, 17, 15, 13,\n",
            "        14, 11,  8, 15, 16, 11,  8,  9,  6,  9,  1, 10,  5,  6,  9, 10, 16,  7,\n",
            "        16, 11, 16, 10,  8,  8,  5, 11,  6,  3,  8, 11,  4, 10, 17, 17, 14, 15,\n",
            "         5,  8,  8,  7,  9,  8,  4, 14, 11, 15, 11,  9,  9,  6,  6, 12,  6, 10,\n",
            "         7, 11, 15, 12, 14,  6,  9, 10,  8, 15,  5,  8, 14,  8,  3,  9, 13, 17,\n",
            "        11, 13, 12,  9, 14, 15, 12, 11,  4,  2,  4,  6,  8, 10,  4,  4, 13,  7,\n",
            "         7, 11,  8, 12, 14,  9,  7, 13,  4, 12,  9, 17, 10,  7, 10,  6,  1,  7,\n",
            "        13,  8])\n",
            "Images: tensor([[[[-0.4242, -0.4242, -0.4242,  ..., -0.4242, -0.4242, -0.4242],\n",
            "          [-0.4242, -0.4242, -0.4242,  ..., -0.4242, -0.4242, -0.4242],\n",
            "          [-0.4242, -0.4242, -0.4242,  ..., -0.4242, -0.4242, -0.4242],\n",
            "          ...,\n",
            "          [-0.4242, -0.4242, -0.4242,  ..., -0.4242, -0.4242, -0.4242],\n",
            "          [-0.4242, -0.4242, -0.4242,  ..., -0.4242, -0.4242, -0.4242],\n",
            "          [-0.4242, -0.4242, -0.4242,  ..., -0.4242, -0.4242, -0.4242]]],\n",
            "\n",
            "\n",
            "        [[[-0.4242, -0.4242, -0.4242,  ..., -0.4242, -0.4242, -0.4242],\n",
            "          [-0.4242, -0.4242, -0.4242,  ..., -0.4242, -0.4242, -0.4242],\n",
            "          [-0.4242, -0.4242, -0.4242,  ..., -0.4242, -0.4242, -0.4242],\n",
            "          ...,\n",
            "          [-0.4242, -0.4242, -0.4242,  ..., -0.4242, -0.4242, -0.4242],\n",
            "          [-0.4242, -0.4242, -0.4242,  ..., -0.4242, -0.4242, -0.4242],\n",
            "          [-0.4242, -0.4242, -0.4242,  ..., -0.4242, -0.4242, -0.4242]]],\n",
            "\n",
            "\n",
            "        [[[-0.4242, -0.4242, -0.4242,  ..., -0.4242, -0.4242, -0.4242],\n",
            "          [-0.4242, -0.4242, -0.4242,  ..., -0.4242, -0.4242, -0.4242],\n",
            "          [-0.4242, -0.4242, -0.4242,  ..., -0.4242, -0.4242, -0.4242],\n",
            "          ...,\n",
            "          [-0.4242, -0.4242, -0.4242,  ..., -0.4242, -0.4242, -0.4242],\n",
            "          [-0.4242, -0.4242, -0.4242,  ..., -0.4242, -0.4242, -0.4242],\n",
            "          [-0.4242, -0.4242, -0.4242,  ..., -0.4242, -0.4242, -0.4242]]],\n",
            "\n",
            "\n",
            "        ...,\n",
            "\n",
            "\n",
            "        [[[-0.4242, -0.4242, -0.4242,  ..., -0.4242, -0.4242, -0.4242],\n",
            "          [-0.4242, -0.4242, -0.4242,  ..., -0.4242, -0.4242, -0.4242],\n",
            "          [-0.4242, -0.4242, -0.4242,  ..., -0.4242, -0.4242, -0.4242],\n",
            "          ...,\n",
            "          [-0.4242, -0.4242, -0.4242,  ..., -0.4242, -0.4242, -0.4242],\n",
            "          [-0.4242, -0.4242, -0.4242,  ..., -0.4242, -0.4242, -0.4242],\n",
            "          [-0.4242, -0.4242, -0.4242,  ..., -0.4242, -0.4242, -0.4242]]],\n",
            "\n",
            "\n",
            "        [[[-0.4242, -0.4242, -0.4242,  ..., -0.4242, -0.4242, -0.4242],\n",
            "          [-0.4242, -0.4242, -0.4242,  ..., -0.4242, -0.4242, -0.4242],\n",
            "          [-0.4242, -0.4242, -0.4242,  ..., -0.4242, -0.4242, -0.4242],\n",
            "          ...,\n",
            "          [-0.4242, -0.4242, -0.4242,  ..., -0.4242, -0.4242, -0.4242],\n",
            "          [-0.4242, -0.4242, -0.4242,  ..., -0.4242, -0.4242, -0.4242],\n",
            "          [-0.4242, -0.4242, -0.4242,  ..., -0.4242, -0.4242, -0.4242]]],\n",
            "\n",
            "\n",
            "        [[[-0.4242, -0.4242, -0.4242,  ..., -0.4242, -0.4242, -0.4242],\n",
            "          [-0.4242, -0.4242, -0.4242,  ..., -0.4242, -0.4242, -0.4242],\n",
            "          [-0.4242, -0.4242, -0.4242,  ..., -0.4242, -0.4242, -0.4242],\n",
            "          ...,\n",
            "          [-0.4242, -0.4242, -0.4242,  ..., -0.4242, -0.4242, -0.4242],\n",
            "          [-0.4242, -0.4242, -0.4242,  ..., -0.4242, -0.4242, -0.4242],\n",
            "          [-0.4242, -0.4242, -0.4242,  ..., -0.4242, -0.4242, -0.4242]]]])\n",
            "Labels: tensor([6, 9, 9, 7, 7, 3, 1, 6, 3, 1, 4, 2, 0, 6, 0, 8, 7, 7, 5, 7, 2, 7, 8, 2,\n",
            "        8, 0, 3, 4, 0, 4, 0, 3, 3, 2, 7, 5, 7, 7, 7, 6, 8, 6, 3, 3, 1, 3, 5, 8,\n",
            "        2, 8, 8, 8, 5, 8, 5, 5, 1, 4, 8, 6, 1, 6, 9, 8, 6, 4, 8, 5, 3, 3, 3, 8,\n",
            "        1, 9, 9, 6, 9, 1, 9, 5, 1, 7, 2, 0, 5, 3, 3, 4, 9, 9, 6, 5, 7, 1, 7, 7,\n",
            "        9, 6, 0, 0, 0, 5, 1, 7, 4, 1, 5, 7, 5, 3, 1, 5, 8, 6, 3, 6, 0, 5, 8, 9,\n",
            "        1, 5, 3, 2, 0, 3, 4, 7])\n",
            "Random Numbers: tensor([[0, 0, 1,  ..., 0, 0, 0],\n",
            "        [0, 0, 0,  ..., 0, 0, 0],\n",
            "        [0, 0, 0,  ..., 0, 0, 0],\n",
            "        ...,\n",
            "        [0, 0, 0,  ..., 0, 0, 0],\n",
            "        [0, 0, 0,  ..., 0, 0, 1],\n",
            "        [0, 1, 0,  ..., 0, 0, 0]])\n",
            "\n",
            "\n",
            "************\n",
            "Sum: tensor([ 8, 13, 14, 15, 13,  4,  6,  6,  7, 10,  9,  9,  6,  7,  0, 17, 15, 13,\n",
            "        14, 11,  8, 15, 16, 11,  8,  9,  6,  9,  1, 10,  5,  6,  9, 10, 16,  7,\n",
            "        16, 11, 16, 10,  8,  8,  5, 11,  6,  3,  8, 11,  4, 10, 17, 17, 14, 15,\n",
            "         5,  8,  8,  7,  9,  8,  4, 14, 11, 15, 11,  9,  9,  6,  6, 12,  6, 10,\n",
            "         7, 11, 15, 12, 14,  6,  9, 10,  8, 15,  5,  8, 14,  8,  3,  9, 13, 17,\n",
            "        11, 13, 12,  9, 14, 15, 12, 11,  4,  2,  4,  6,  8, 10,  4,  4, 13,  7,\n",
            "         7, 11,  8, 12, 14,  9,  7, 13,  4, 12,  9, 17, 10,  7, 10,  6,  1,  7,\n",
            "        13,  8])\n",
            "Images: tensor([[[[-0.4242, -0.4242, -0.4242,  ..., -0.4242, -0.4242, -0.4242],\n",
            "          [-0.4242, -0.4242, -0.4242,  ..., -0.4242, -0.4242, -0.4242],\n",
            "          [-0.4242, -0.4242, -0.4242,  ..., -0.4242, -0.4242, -0.4242],\n",
            "          ...,\n",
            "          [-0.4242, -0.4242, -0.4242,  ..., -0.4242, -0.4242, -0.4242],\n",
            "          [-0.4242, -0.4242, -0.4242,  ..., -0.4242, -0.4242, -0.4242],\n",
            "          [-0.4242, -0.4242, -0.4242,  ..., -0.4242, -0.4242, -0.4242]]],\n",
            "\n",
            "\n",
            "        [[[-0.4242, -0.4242, -0.4242,  ..., -0.4242, -0.4242, -0.4242],\n",
            "          [-0.4242, -0.4242, -0.4242,  ..., -0.4242, -0.4242, -0.4242],\n",
            "          [-0.4242, -0.4242, -0.4242,  ..., -0.4242, -0.4242, -0.4242],\n",
            "          ...,\n",
            "          [-0.4242, -0.4242, -0.4242,  ..., -0.4242, -0.4242, -0.4242],\n",
            "          [-0.4242, -0.4242, -0.4242,  ..., -0.4242, -0.4242, -0.4242],\n",
            "          [-0.4242, -0.4242, -0.4242,  ..., -0.4242, -0.4242, -0.4242]]],\n",
            "\n",
            "\n",
            "        [[[-0.4242, -0.4242, -0.4242,  ..., -0.4242, -0.4242, -0.4242],\n",
            "          [-0.4242, -0.4242, -0.4242,  ..., -0.4242, -0.4242, -0.4242],\n",
            "          [-0.4242, -0.4242, -0.4242,  ..., -0.4242, -0.4242, -0.4242],\n",
            "          ...,\n",
            "          [-0.4242, -0.4242, -0.4242,  ..., -0.4242, -0.4242, -0.4242],\n",
            "          [-0.4242, -0.4242, -0.4242,  ..., -0.4242, -0.4242, -0.4242],\n",
            "          [-0.4242, -0.4242, -0.4242,  ..., -0.4242, -0.4242, -0.4242]]],\n",
            "\n",
            "\n",
            "        ...,\n",
            "\n",
            "\n",
            "        [[[-0.4242, -0.4242, -0.4242,  ..., -0.4242, -0.4242, -0.4242],\n",
            "          [-0.4242, -0.4242, -0.4242,  ..., -0.4242, -0.4242, -0.4242],\n",
            "          [-0.4242, -0.4242, -0.4242,  ..., -0.4242, -0.4242, -0.4242],\n",
            "          ...,\n",
            "          [-0.4242, -0.4242, -0.4242,  ..., -0.4242, -0.4242, -0.4242],\n",
            "          [-0.4242, -0.4242, -0.4242,  ..., -0.4242, -0.4242, -0.4242],\n",
            "          [-0.4242, -0.4242, -0.4242,  ..., -0.4242, -0.4242, -0.4242]]],\n",
            "\n",
            "\n",
            "        [[[-0.4242, -0.4242, -0.4242,  ..., -0.4242, -0.4242, -0.4242],\n",
            "          [-0.4242, -0.4242, -0.4242,  ..., -0.4242, -0.4242, -0.4242],\n",
            "          [-0.4242, -0.4242, -0.4242,  ..., -0.4242, -0.4242, -0.4242],\n",
            "          ...,\n",
            "          [-0.4242, -0.4242, -0.4242,  ..., -0.4242, -0.4242, -0.4242],\n",
            "          [-0.4242, -0.4242, -0.4242,  ..., -0.4242, -0.4242, -0.4242],\n",
            "          [-0.4242, -0.4242, -0.4242,  ..., -0.4242, -0.4242, -0.4242]]],\n",
            "\n",
            "\n",
            "        [[[-0.4242, -0.4242, -0.4242,  ..., -0.4242, -0.4242, -0.4242],\n",
            "          [-0.4242, -0.4242, -0.4242,  ..., -0.4242, -0.4242, -0.4242],\n",
            "          [-0.4242, -0.4242, -0.4242,  ..., -0.4242, -0.4242, -0.4242],\n",
            "          ...,\n",
            "          [-0.4242, -0.4242, -0.4242,  ..., -0.4242, -0.4242, -0.4242],\n",
            "          [-0.4242, -0.4242, -0.4242,  ..., -0.4242, -0.4242, -0.4242],\n",
            "          [-0.4242, -0.4242, -0.4242,  ..., -0.4242, -0.4242, -0.4242]]]])\n",
            "Labels: tensor([6, 9, 9, 7, 7, 3, 1, 6, 3, 1, 4, 2, 0, 6, 0, 8, 7, 7, 5, 7, 2, 7, 8, 2,\n",
            "        8, 0, 3, 4, 0, 4, 0, 3, 3, 2, 7, 5, 7, 7, 7, 6, 8, 6, 3, 3, 1, 3, 5, 8,\n",
            "        2, 8, 8, 8, 5, 8, 5, 5, 1, 4, 8, 6, 1, 6, 9, 8, 6, 4, 8, 5, 3, 3, 3, 8,\n",
            "        1, 9, 9, 6, 9, 1, 9, 5, 1, 7, 2, 0, 5, 3, 3, 4, 9, 9, 6, 5, 7, 1, 7, 7,\n",
            "        9, 6, 0, 0, 0, 5, 1, 7, 4, 1, 5, 7, 5, 3, 1, 5, 8, 6, 3, 6, 0, 5, 8, 9,\n",
            "        1, 5, 3, 2, 0, 3, 4, 7])\n",
            "Random Numbers: tensor([[0, 0, 1,  ..., 0, 0, 0],\n",
            "        [0, 0, 0,  ..., 0, 0, 0],\n",
            "        [0, 0, 0,  ..., 0, 0, 0],\n",
            "        ...,\n",
            "        [0, 0, 0,  ..., 0, 0, 0],\n",
            "        [0, 0, 0,  ..., 0, 0, 1],\n",
            "        [0, 1, 0,  ..., 0, 0, 0]])\n"
          ]
        }
      ]
    },
    {
      "cell_type": "code",
      "metadata": {
        "colab": {
          "base_uri": "https://localhost:8080/"
        },
        "id": "JQvDpMGY00ac",
        "outputId": "24ec9ff1-cc78-4eae-9736-41a87ad39cf6"
      },
      "source": [
        "print('Images:', images.shape)\n",
        "print('Labels:', labels.shape)\n",
        "print('Random Numbers:', randomnumbers.shape)\n",
        "print('Sum:', sum.shape)"
      ],
      "execution_count": 15,
      "outputs": [
        {
          "output_type": "stream",
          "name": "stdout",
          "text": [
            "Images: torch.Size([128, 1, 28, 28])\n",
            "Labels: torch.Size([128])\n",
            "Random Numbers: torch.Size([128, 10])\n",
            "Sum: torch.Size([128])\n"
          ]
        }
      ]
    },
    {
      "cell_type": "code",
      "metadata": {
        "colab": {
          "base_uri": "https://localhost:8080/"
        },
        "id": "P2TOR-y2A5w6",
        "outputId": "89a5b3ba-df5d-4b44-d336-b95de654e51e"
      },
      "source": [
        "print(\"Number of images ( Train ):\",len(train_dataset))\n",
        "print(\"Number of images ( Test ):\",len(test_dataset))"
      ],
      "execution_count": 16,
      "outputs": [
        {
          "output_type": "stream",
          "name": "stdout",
          "text": [
            "Number of images ( Train ): 60000\n",
            "Number of images ( Test ): 10000\n"
          ]
        }
      ]
    },
    {
      "cell_type": "code",
      "metadata": {
        "colab": {
          "base_uri": "https://localhost:8080/",
          "height": 225
        },
        "id": "KvF8ZHgrp83H",
        "outputId": "1c8e57c9-386d-46aa-e6ab-589948045028"
      },
      "source": [
        "#Source: https://stackoverflow.com/questions/51329159/how-can-i-generate-and-display-a-grid-of-images-in-pytorch-with-plt-imshow-and-t\n",
        "\n",
        "batch = next(iter(train_loader))   \n",
        "images,labels,randomnumbers,sum = batch\n",
        "\n",
        "grid = torchvision.utils.make_grid(images, nrow=30)  \n",
        "plt.figure(figsize=(15,15))\n",
        "plt.imshow(np.transpose(grid, (1,2,0)))"
      ],
      "execution_count": 17,
      "outputs": [
        {
          "output_type": "stream",
          "name": "stderr",
          "text": [
            "Clipping input data to the valid range for imshow with RGB data ([0..1] for floats or [0..255] for integers).\n"
          ]
        },
        {
          "output_type": "execute_result",
          "data": {
            "text/plain": [
              "<matplotlib.image.AxesImage at 0x7fe0eb32f290>"
            ]
          },
          "metadata": {},
          "execution_count": 17
        },
        {
          "output_type": "display_data",
          "data": {
            "image/png": "[encoded data removed]",
            "text/plain": [
              "<Figure size 1080x1080 with 1 Axes>"
            ]
          },
          "metadata": {
            "needs_background": "light"
          }
        }
      ]
    },
    {
      "cell_type": "markdown",
      "metadata": {
        "id": "Tf9YyaoECnsj"
      },
      "source": [
        "To summarise, we first loaded the MNIST dataset. We iterated through it to veriy if it loaded fine. After that we wrote a class which gives us the images, labels, random numbers and the sum. We also used the loader to iterate over these to see how the data looks. This is very important because it gives you a visual representation."
      ]
    },
    {
      "cell_type": "markdown",
      "metadata": {
        "id": "Wf-OBNazjQxT"
      },
      "source": [
        "# NETWORK"
      ]
    },
    {
      "cell_type": "code",
      "metadata": {
        "id": "AwMIzPzQDDQF"
      },
      "source": [
        "class Network(nn.Module):\n",
        "    def __init__(self):\n",
        "      super().__init__()   #running the initialization for nn.Module\n",
        "      self.conv1 = nn.Conv2d(1,32,3,padding=1)                                         # input: 28x28x1, output: 28x28x32, RF: 3x3\n",
        "      self.conv2 = nn.Conv2d(32,64,3,padding=1)                                        # input: 28x28x32, output: 28x28x64, RF: 5x5\n",
        "      self.pool1 = nn.MaxPool2d(2,2)                                                   # input: 14x14x64, output: 14x14x64, RF: 10x10\n",
        "      self.conv3 = nn.Conv2d(64,128,3,padding=1)                                       # input: 14x14x64, output: 14x14x128, RF: 12x12\n",
        "      self.conv4 = nn.Conv2d(128,256,3,padding=1)                                      # input: 14x14x128, output: 14x14x256, RF: 14x14\n",
        "      self.pool2 = nn.MaxPool2d(2,2)                                                   # input: 7x7x256, output: 7x7x256, RF: 28x28\n",
        "      self.conv5 = nn.Conv2d(256,512,3)                                                # input: 7x7x256, output: 5x5x512, RF: 30x30\n",
        "      self.conv6 = nn.Conv2d(512,1024,3)                                               # input: 5x5x512, output: 3x3x1024, RF: 32x32\n",
        "      self.conv7 = nn.Conv2d(1024,10,3)                                                # input: 3x3x1024, output: 1x1x10, RF: 34x34\n",
        " \n",
        "      self.fc1 = nn.Linear(10+10,128)  #first fully connected layer. (input,output). \n",
        "      self.fc2 = nn.Linear(128,19)     #second fully connected layer.\n",
        "\n",
        "    def forward(self, image, randomno):\n",
        "      x = self.pool1(F.relu(self.conv2(F.relu(self.conv1(image)))))\n",
        "      x = self.pool2(F.relu(self.conv4(F.relu(self.conv3(x)))))\n",
        "      x = F.relu(self.conv6(F.relu(self.conv5(x))))\n",
        "      x = self.conv7(x)\n",
        "      x = x.view(-1, 10)\n",
        "      x1 = torch.cat((x, randomno), dim=1)\n",
        "      x1 = F.relu(self.fc1(x1))\n",
        "      x1 = self.fc2(x1) \n",
        "      return F.log_softmax(x, dim = 1), F.log_softmax(x1, dim = 1)\n"
      ],
      "execution_count": 18,
      "outputs": []
    },
    {
      "cell_type": "markdown",
      "metadata": {
        "id": "aw0sC_EvqdtU"
      },
      "source": [
        "We have used ReLU as our activation function over others such as sigmoid or tanh because of the following reasons: \n",
        "\n",
        "1.   To achieve a non-linear transformation of the data.\n",
        "2.   They are simple, easy to calculate, fast to compute, and don't suffer from vanishing     gradients.\n",
        "3.   It does not activate all the neurons at the same time. i.e neurons will only be deactivated if the output of the linear transformation is less than 0.\n",
        "\n"
      ]
    },
    {
      "cell_type": "code",
      "metadata": {
        "colab": {
          "base_uri": "https://localhost:8080/"
        },
        "id": "6fI_RHbVjUNT",
        "outputId": "840c3fd5-16f5-424e-d347-4b1dce328237"
      },
      "source": [
        "model = Network().to(device)\n",
        "model.eval()"
      ],
      "execution_count": 19,
      "outputs": [
        {
          "output_type": "execute_result",
          "data": {
            "text/plain": [
              "Network(\n",
              "  (conv1): Conv2d(1, 32, kernel_size=(3, 3), stride=(1, 1), padding=(1, 1))\n",
              "  (conv2): Conv2d(32, 64, kernel_size=(3, 3), stride=(1, 1), padding=(1, 1))\n",
              "  (pool1): MaxPool2d(kernel_size=2, stride=2, padding=0, dilation=1, ceil_mode=False)\n",
              "  (conv3): Conv2d(64, 128, kernel_size=(3, 3), stride=(1, 1), padding=(1, 1))\n",
              "  (conv4): Conv2d(128, 256, kernel_size=(3, 3), stride=(1, 1), padding=(1, 1))\n",
              "  (pool2): MaxPool2d(kernel_size=2, stride=2, padding=0, dilation=1, ceil_mode=False)\n",
              "  (conv5): Conv2d(256, 512, kernel_size=(3, 3), stride=(1, 1))\n",
              "  (conv6): Conv2d(512, 1024, kernel_size=(3, 3), stride=(1, 1))\n",
              "  (conv7): Conv2d(1024, 10, kernel_size=(3, 3), stride=(1, 1))\n",
              "  (fc1): Linear(in_features=20, out_features=128, bias=True)\n",
              "  (fc2): Linear(in_features=128, out_features=19, bias=True)\n",
              ")"
            ]
          },
          "metadata": {},
          "execution_count": 19
        }
      ]
    },
    {
      "cell_type": "markdown",
      "metadata": {
        "id": "bZyKpZBmuCR2"
      },
      "source": [
        "# Model Summary"
      ]
    },
    {
      "cell_type": "code",
      "metadata": {
        "colab": {
          "base_uri": "https://localhost:8080/"
        },
        "id": "7Ik8W4zJloO3",
        "outputId": "1747afeb-e136-4564-8022-af8abde0622d"
      },
      "source": [
        "# Source: https://stackoverflow.com/questions/49201236/check-the-total-number-of-parameters-in-a-pytorch-model\n",
        "from prettytable import PrettyTable\n",
        "\n",
        "def count_parameters(model):\n",
        "    table = PrettyTable([\"Modules\", \"Parameters\"])\n",
        "    total_params = 0\n",
        "    for name, parameter in model.named_parameters():\n",
        "        if not parameter.requires_grad: continue\n",
        "        param = parameter.numel()\n",
        "        table.add_row([name, param])\n",
        "        total_params+=param\n",
        "    print(table)\n",
        "    print(f\"Total Trainable Params: {total_params}\")\n",
        "    return total_params\n",
        "\n",
        "network = Network()    \n",
        "count_parameters(network)"
      ],
      "execution_count": 20,
      "outputs": [
        {
          "output_type": "stream",
          "name": "stdout",
          "text": [
            "+--------------+------------+\n",
            "|   Modules    | Parameters |\n",
            "+--------------+------------+\n",
            "| conv1.weight |    288     |\n",
            "|  conv1.bias  |     32     |\n",
            "| conv2.weight |   18432    |\n",
            "|  conv2.bias  |     64     |\n",
            "| conv3.weight |   73728    |\n",
            "|  conv3.bias  |    128     |\n",
            "| conv4.weight |   294912   |\n",
            "|  conv4.bias  |    256     |\n",
            "| conv5.weight |  1179648   |\n",
            "|  conv5.bias  |    512     |\n",
            "| conv6.weight |  4718592   |\n",
            "|  conv6.bias  |    1024    |\n",
            "| conv7.weight |   92160    |\n",
            "|  conv7.bias  |     10     |\n",
            "|  fc1.weight  |    2560    |\n",
            "|   fc1.bias   |    128     |\n",
            "|  fc2.weight  |    2432    |\n",
            "|   fc2.bias   |     19     |\n",
            "+--------------+------------+\n",
            "Total Trainable Params: 6384925\n"
          ]
        },
        {
          "output_type": "execute_result",
          "data": {
            "text/plain": [
              "6384925"
            ]
          },
          "metadata": {},
          "execution_count": 20
        }
      ]
    },
    {
      "cell_type": "markdown",
      "metadata": {
        "id": "l4hK0kxAsp8Q"
      },
      "source": [
        "# Train Function"
      ]
    },
    {
      "cell_type": "code",
      "metadata": {
        "id": "PkgrC_NhmF6o"
      },
      "source": [
        "from tqdm import tqdm\n",
        "def train(model, device, train_loader, optimizer, epoch):\n",
        "  model.train()\n",
        "  pbar = tqdm(train_loader)\n",
        "  for batch_idx, (data, target, randomnumber, sum) in enumerate(pbar):\n",
        "    data, target, randomnumber, sum = data.to(device), target.to(device), randomnumber.to(device), sum.to(device)\n",
        "    optimizer.zero_grad()   #we need to explicitly set the gradients to zero to prevent accumulation  \n",
        "    output, sum_output = model(data,randomnumber.to(device))  # This gives us the predicted label and predicted sum\n",
        "    loss_mnist = F.nll_loss(output, target)  # Calculate the loss for label. \n",
        "    loss_add = F.nll_loss(sum_output, sum)   # Calculate loss for sum of the label and the random number\n",
        "    loss= loss_mnist + loss_add  # This is the total loss\n",
        "    loss.backward() # backpropogation\n",
        "    optimizer.step() # Iterate over all tensors\n",
        "\n"
      ],
      "execution_count": 21,
      "outputs": []
    },
    {
      "cell_type": "markdown",
      "metadata": {
        "id": "pSVGERjAss-2"
      },
      "source": [
        "# Test Function"
      ]
    },
    {
      "cell_type": "code",
      "metadata": {
        "id": "h5qdTzzDou6Z"
      },
      "source": [
        "def test(model,device,test_loader):\n",
        "  model.eval()\n",
        "  test_loss = 0\n",
        "  correct_mnist = 0\n",
        "  correct_sum = 0\n",
        "  # turn off gradients during the testing\n",
        "  with torch.no_grad():\n",
        "    for (data,target,randomnumber,sum) in test_loader:\n",
        "      data, target, randomnumber, sum = data.to(device), target.to(device), randomnumber.to(device), sum.to(device)\n",
        "      output, sum_output = model(data, randomnumber)\n",
        "      test_loss += F.nll_loss(output, target, reduction='sum').item() + F.nll_loss(sum_output, sum, reduction='sum').item()   # loss of label and random number\n",
        "      pred_mnist = output.argmax(dim=1, keepdim=True)\n",
        "      addition_pred = sum_output.argmax(dim=1, keepdim=True)\n",
        "      pred = output.argmax(dim=1, keepdim=True)\n",
        "      correct_mnist += pred_mnist.eq(target.view_as(pred_mnist)).sum().item()\n",
        "      correct_sum += addition_pred.eq(sum.view_as(addition_pred)).sum().item()\n",
        "  test_loss /= len(test_loader.dataset)\n",
        "\n",
        "  print('\\nTest set: Test loss: {:.4f}, MNIST Accuracy: {}/{} ({:.0f}%), Sum Accuracy: {}/{} ({:.0f}%)\\n'.format(\n",
        "        test_loss, correct_mnist, len(test_loader.dataset),\n",
        "        100. * correct_mnist / len(test_loader.dataset),correct_sum,len(test_loader.dataset),100. * correct_sum / len(test_loader.dataset)))\n"
      ],
      "execution_count": 22,
      "outputs": []
    },
    {
      "cell_type": "markdown",
      "metadata": {
        "id": "W8hbACFSBJtp"
      },
      "source": [
        "## Training and Logs"
      ]
    },
    {
      "cell_type": "code",
      "metadata": {
        "colab": {
          "base_uri": "https://localhost:8080/"
        },
        "id": "7G0bPC5Jo0-a",
        "outputId": "bfb3873c-1e19-45df-a5d3-4c1f1087dcb8"
      },
      "source": [
        "import torch.optim as optim\n",
        "model = Network().to(device)\n",
        "optimizer = optim.SGD(model.parameters(), lr=0.01, momentum=0.9)\n",
        "\n",
        "epochs = 25\n",
        "for epoch in range(1, epochs):\n",
        "    train(model, device, train_loader, optimizer, epoch)\n",
        "    test(model, device, test_loader)"
      ],
      "execution_count": 23,
      "outputs": [
        {
          "metadata": {
            "tags": null
          },
          "name": "stderr",
          "output_type": "stream",
          "text": [
            "  0%|          | 0/469 [00:00<?, ?it/s]/usr/local/lib/python3.7/dist-packages/torch/nn/functional.py:718: UserWarning: Named tensors and all their associated APIs are an experimental feature and subject to change. Please do not use them for anything important until they are released as stable. (Triggered internally at  /pytorch/c10/core/TensorImpl.h:1156.)\n",
            "  return torch.max_pool2d(input, kernel_size, stride, padding, dilation, ceil_mode)\n",
            "100%|██████████| 469/469 [00:34<00:00, 13.47it/s]\n"
          ]
        },
        {
          "metadata": {
            "tags": null
          },
          "name": "stdout",
          "output_type": "stream",
          "text": [
            "\n",
            "Test set: Test loss: 2.0773, MNIST Accuracy: 9824/10000 (98%), Sum Accuracy: 3547/10000 (35%)\n",
            "\n"
          ]
        },
        {
          "metadata": {
            "tags": null
          },
          "name": "stderr",
          "output_type": "stream",
          "text": [
            "100%|██████████| 469/469 [00:34<00:00, 13.50it/s]\n"
          ]
        },
        {
          "metadata": {
            "tags": null
          },
          "name": "stdout",
          "output_type": "stream",
          "text": [
            "\n",
            "Test set: Test loss: 0.8698, MNIST Accuracy: 9899/10000 (99%), Sum Accuracy: 9673/10000 (97%)\n",
            "\n"
          ]
        },
        {
          "metadata": {
            "tags": null
          },
          "name": "stderr",
          "output_type": "stream",
          "text": [
            "100%|██████████| 469/469 [00:34<00:00, 13.46it/s]\n"
          ]
        },
        {
          "metadata": {
            "tags": null
          },
          "name": "stdout",
          "output_type": "stream",
          "text": [
            "\n",
            "Test set: Test loss: 0.2501, MNIST Accuracy: 9926/10000 (99%), Sum Accuracy: 9905/10000 (99%)\n",
            "\n"
          ]
        },
        {
          "metadata": {
            "tags": null
          },
          "name": "stderr",
          "output_type": "stream",
          "text": [
            "100%|██████████| 469/469 [00:34<00:00, 13.64it/s]\n"
          ]
        },
        {
          "metadata": {
            "tags": null
          },
          "name": "stdout",
          "output_type": "stream",
          "text": [
            "\n",
            "Test set: Test loss: 0.1339, MNIST Accuracy: 9911/10000 (99%), Sum Accuracy: 9901/10000 (99%)\n",
            "\n"
          ]
        },
        {
          "metadata": {
            "tags": null
          },
          "name": "stderr",
          "output_type": "stream",
          "text": [
            "100%|██████████| 469/469 [00:34<00:00, 13.68it/s]\n"
          ]
        },
        {
          "metadata": {
            "tags": null
          },
          "name": "stdout",
          "output_type": "stream",
          "text": [
            "\n",
            "Test set: Test loss: 0.1180, MNIST Accuracy: 9902/10000 (99%), Sum Accuracy: 9883/10000 (99%)\n",
            "\n"
          ]
        },
        {
          "output_type": "stream",
          "name": "stderr",
          "text": [
            "100%|██████████| 469/469 [00:34<00:00, 13.67it/s]\n"
          ]
        },
        {
          "output_type": "stream",
          "name": "stdout",
          "text": [
            "\n",
            "Test set: Test loss: 0.0736, MNIST Accuracy: 9937/10000 (99%), Sum Accuracy: 9929/10000 (99%)\n",
            "\n"
          ]
        },
        {
          "output_type": "stream",
          "name": "stderr",
          "text": [
            "100%|██████████| 469/469 [00:34<00:00, 13.54it/s]\n"
          ]
        },
        {
          "output_type": "stream",
          "name": "stdout",
          "text": [
            "\n",
            "Test set: Test loss: 0.0666, MNIST Accuracy: 9940/10000 (99%), Sum Accuracy: 9931/10000 (99%)\n",
            "\n"
          ]
        },
        {
          "output_type": "stream",
          "name": "stderr",
          "text": [
            "100%|██████████| 469/469 [00:34<00:00, 13.53it/s]\n"
          ]
        },
        {
          "output_type": "stream",
          "name": "stdout",
          "text": [
            "\n",
            "Test set: Test loss: 0.0654, MNIST Accuracy: 9928/10000 (99%), Sum Accuracy: 9922/10000 (99%)\n",
            "\n"
          ]
        },
        {
          "output_type": "stream",
          "name": "stderr",
          "text": [
            "100%|██████████| 469/469 [00:34<00:00, 13.45it/s]\n"
          ]
        },
        {
          "output_type": "stream",
          "name": "stdout",
          "text": [
            "\n",
            "Test set: Test loss: 0.0542, MNIST Accuracy: 9938/10000 (99%), Sum Accuracy: 9938/10000 (99%)\n",
            "\n"
          ]
        },
        {
          "output_type": "stream",
          "name": "stderr",
          "text": [
            "100%|██████████| 469/469 [00:34<00:00, 13.54it/s]\n"
          ]
        },
        {
          "output_type": "stream",
          "name": "stdout",
          "text": [
            "\n",
            "Test set: Test loss: 0.0645, MNIST Accuracy: 9921/10000 (99%), Sum Accuracy: 9921/10000 (99%)\n",
            "\n"
          ]
        },
        {
          "output_type": "stream",
          "name": "stderr",
          "text": [
            "100%|██████████| 469/469 [00:34<00:00, 13.49it/s]\n"
          ]
        },
        {
          "output_type": "stream",
          "name": "stdout",
          "text": [
            "\n",
            "Test set: Test loss: 0.0562, MNIST Accuracy: 9935/10000 (99%), Sum Accuracy: 9929/10000 (99%)\n",
            "\n"
          ]
        },
        {
          "output_type": "stream",
          "name": "stderr",
          "text": [
            "100%|██████████| 469/469 [00:34<00:00, 13.51it/s]\n"
          ]
        },
        {
          "output_type": "stream",
          "name": "stdout",
          "text": [
            "\n",
            "Test set: Test loss: 0.0608, MNIST Accuracy: 9934/10000 (99%), Sum Accuracy: 9927/10000 (99%)\n",
            "\n"
          ]
        },
        {
          "output_type": "stream",
          "name": "stderr",
          "text": [
            "100%|██████████| 469/469 [00:34<00:00, 13.46it/s]\n"
          ]
        },
        {
          "output_type": "stream",
          "name": "stdout",
          "text": [
            "\n",
            "Test set: Test loss: 0.0518, MNIST Accuracy: 9942/10000 (99%), Sum Accuracy: 9940/10000 (99%)\n",
            "\n"
          ]
        },
        {
          "output_type": "stream",
          "name": "stderr",
          "text": [
            "100%|██████████| 469/469 [00:34<00:00, 13.59it/s]\n"
          ]
        },
        {
          "output_type": "stream",
          "name": "stdout",
          "text": [
            "\n",
            "Test set: Test loss: 0.0492, MNIST Accuracy: 9941/10000 (99%), Sum Accuracy: 9940/10000 (99%)\n",
            "\n"
          ]
        },
        {
          "output_type": "stream",
          "name": "stderr",
          "text": [
            "100%|██████████| 469/469 [00:34<00:00, 13.54it/s]\n"
          ]
        },
        {
          "output_type": "stream",
          "name": "stdout",
          "text": [
            "\n",
            "Test set: Test loss: 0.0485, MNIST Accuracy: 9940/10000 (99%), Sum Accuracy: 9938/10000 (99%)\n",
            "\n"
          ]
        },
        {
          "output_type": "stream",
          "name": "stderr",
          "text": [
            "100%|██████████| 469/469 [00:34<00:00, 13.55it/s]\n"
          ]
        },
        {
          "output_type": "stream",
          "name": "stdout",
          "text": [
            "\n",
            "Test set: Test loss: 0.0492, MNIST Accuracy: 9941/10000 (99%), Sum Accuracy: 9944/10000 (99%)\n",
            "\n"
          ]
        },
        {
          "output_type": "stream",
          "name": "stderr",
          "text": [
            "100%|██████████| 469/469 [00:34<00:00, 13.52it/s]\n"
          ]
        },
        {
          "output_type": "stream",
          "name": "stdout",
          "text": [
            "\n",
            "Test set: Test loss: 0.0482, MNIST Accuracy: 9942/10000 (99%), Sum Accuracy: 9937/10000 (99%)\n",
            "\n"
          ]
        },
        {
          "output_type": "stream",
          "name": "stderr",
          "text": [
            "100%|██████████| 469/469 [00:34<00:00, 13.55it/s]\n"
          ]
        },
        {
          "output_type": "stream",
          "name": "stdout",
          "text": [
            "\n",
            "Test set: Test loss: 0.0470, MNIST Accuracy: 9941/10000 (99%), Sum Accuracy: 9941/10000 (99%)\n",
            "\n"
          ]
        },
        {
          "output_type": "stream",
          "name": "stderr",
          "text": [
            "100%|██████████| 469/469 [00:34<00:00, 13.49it/s]\n"
          ]
        },
        {
          "output_type": "stream",
          "name": "stdout",
          "text": [
            "\n",
            "Test set: Test loss: 0.0467, MNIST Accuracy: 9940/10000 (99%), Sum Accuracy: 9941/10000 (99%)\n",
            "\n"
          ]
        },
        {
          "output_type": "stream",
          "name": "stderr",
          "text": [
            "100%|██████████| 469/469 [00:34<00:00, 13.50it/s]\n"
          ]
        },
        {
          "output_type": "stream",
          "name": "stdout",
          "text": [
            "\n",
            "Test set: Test loss: 0.0461, MNIST Accuracy: 9942/10000 (99%), Sum Accuracy: 9944/10000 (99%)\n",
            "\n"
          ]
        },
        {
          "output_type": "stream",
          "name": "stderr",
          "text": [
            "100%|██████████| 469/469 [00:34<00:00, 13.48it/s]\n"
          ]
        },
        {
          "output_type": "stream",
          "name": "stdout",
          "text": [
            "\n",
            "Test set: Test loss: 0.0492, MNIST Accuracy: 9942/10000 (99%), Sum Accuracy: 9937/10000 (99%)\n",
            "\n"
          ]
        },
        {
          "output_type": "stream",
          "name": "stderr",
          "text": [
            "100%|██████████| 469/469 [00:34<00:00, 13.45it/s]\n"
          ]
        },
        {
          "output_type": "stream",
          "name": "stdout",
          "text": [
            "\n",
            "Test set: Test loss: 0.0496, MNIST Accuracy: 9941/10000 (99%), Sum Accuracy: 9936/10000 (99%)\n",
            "\n"
          ]
        },
        {
          "output_type": "stream",
          "name": "stderr",
          "text": [
            "100%|██████████| 469/469 [00:34<00:00, 13.50it/s]\n"
          ]
        },
        {
          "output_type": "stream",
          "name": "stdout",
          "text": [
            "\n",
            "Test set: Test loss: 0.0478, MNIST Accuracy: 9942/10000 (99%), Sum Accuracy: 9946/10000 (99%)\n",
            "\n"
          ]
        },
        {
          "output_type": "stream",
          "name": "stderr",
          "text": [
            "100%|██████████| 469/469 [00:34<00:00, 13.43it/s]\n"
          ]
        },
        {
          "output_type": "stream",
          "name": "stdout",
          "text": [
            "\n",
            "Test set: Test loss: 0.0486, MNIST Accuracy: 9942/10000 (99%), Sum Accuracy: 9934/10000 (99%)\n",
            "\n"
          ]
        }
      ]
    },
    {
      "cell_type": "code",
      "metadata": {
        "colab": {
          "base_uri": "https://localhost:8080/"
        },
        "id": "c-SfQT7wqzRG",
        "outputId": "d25e3922-74b8-48b4-85fe-5eadd6a3126e"
      },
      "source": [
        "test_loss = test(model, device, test_loader)"
      ],
      "execution_count": null,
      "outputs": [
        {
          "output_type": "stream",
          "name": "stdout",
          "text": [
            "\n",
            "Test set: Test loss: 0.0451, MNIST Accuracy: 9950/10000 (100%), Sum Accuracy: 9948/10000 (99%)\n",
            "\n"
          ]
        }
      ]
    },
    {
      "cell_type": "markdown",
      "metadata": {
        "id": "v0Az33ZMBEgA"
      },
      "source": [
        "## Results "
      ]
    },
    {
      "cell_type": "code",
      "metadata": {
        "id": "7II4LQ4tk1lr"
      },
      "source": [
        "def prediction(image,rnumber):\n",
        "\n",
        "    rnumber_one_hot_encoding = torch.zeros(11).long()\n",
        "    rnumber_one_hot_encoding[rnumber] = 1\n",
        "    rnumber_one_hot_encoding = rnumber_one_hot_encoding[:-1]\n",
        "\n",
        "    \n",
        "    output_1,output_2 = model(image.unsqueeze(dim=1).to(device),rnumber_one_hot_encoding.reshape(-1,10).to(device))\n",
        "\n",
        "    mnist_predicted_label = output_1.argmax(dim=1, keepdim=True)\n",
        "    sum_predicted = output_2.argmax(dim=1, keepdim=True)\n",
        "\n",
        "    #print(f\"Random Number Generated is {rnum}\")\n",
        "    plt.imshow(image.cpu().numpy().squeeze(),cmap='gray')\n",
        "    print(\"MNIST prediction\",mnist_predicted_label.item())\n",
        "    print(\"Random Number Generated\",rnumber)\n",
        "    print(\"Sum calculated\",sum_predicted.item())\n",
        "    return mnist_predicted_label, sum_predicted"
      ],
      "execution_count": 34,
      "outputs": []
    },
    {
      "cell_type": "code",
      "metadata": {
        "colab": {
          "base_uri": "https://localhost:8080/",
          "height": 313
        },
        "id": "PgrPrd1gmGXM",
        "outputId": "2dfcb4ea-53c2-487c-98f3-93d6423d4e30"
      },
      "source": [
        "image,_,_,_ = test_dataset[random.randint(1,10000)]\n",
        "rnum=random.randint(0,9)\n",
        "mnist_pred, sum_pred =prediction(image,rnum)"
      ],
      "execution_count": 35,
      "outputs": [
        {
          "output_type": "stream",
          "name": "stdout",
          "text": [
            "MNIST prediction 9\n",
            "Random Number Generated 0\n",
            "Sum calculated 9\n"
          ]
        },
        {
          "output_type": "display_data",
          "data": {
            "image/png": "[encoded data removed]",
            "text/plain": [
              "<Figure size 432x288 with 1 Axes>"
            ]
          },
          "metadata": {
            "needs_background": "light"
          }
        }
      ]
    },
    {
      "cell_type": "code",
      "metadata": {
        "colab": {
          "base_uri": "https://localhost:8080/",
          "height": 313
        },
        "id": "tugzwvsDmMnx",
        "outputId": "02e48b33-0cd3-4d32-cf97-647487103ae7"
      },
      "source": [
        "image,_,_,_ = test_dataset[random.randint(1,10000)]\n",
        "rnum=random.randint(0,9)\n",
        "mnist_pred, sum_pred =prediction(image,rnum)"
      ],
      "execution_count": 36,
      "outputs": [
        {
          "output_type": "stream",
          "name": "stdout",
          "text": [
            "MNIST prediction 0\n",
            "Random Number Generated 9\n",
            "Sum calculated 9\n"
          ]
        },
        {
          "output_type": "display_data",
          "data": {
            "image/png": "[encoded data removed]",
            "text/plain": [
              "<Figure size 432x288 with 1 Axes>"
            ]
          },
          "metadata": {
            "needs_background": "light"
          }
        }
      ]
    },
    {
      "cell_type": "code",
      "metadata": {
        "colab": {
          "base_uri": "https://localhost:8080/",
          "height": 313
        },
        "id": "zhuLeXHgmP6Y",
        "outputId": "551024dc-2c4e-495d-dcde-2ff683f47fda"
      },
      "source": [
        "\n",
        "image,_,_,_ = test_dataset[random.randint(1,10000)]\n",
        "rnum=random.randint(0,9)\n",
        "mnist_pred, sum_pred =prediction(image,rnum)"
      ],
      "execution_count": 37,
      "outputs": [
        {
          "output_type": "stream",
          "name": "stdout",
          "text": [
            "MNIST prediction 0\n",
            "Random Number Generated 6\n",
            "Sum calculated 6\n"
          ]
        },
        {
          "output_type": "display_data",
          "data": {
            "image/png": "[encoded data removed]",
            "text/plain": [
              "<Figure size 432x288 with 1 Axes>"
            ]
          },
          "metadata": {
            "needs_background": "light"
          }
        }
      ]
    },
    {
      "cell_type": "code",
      "metadata": {
        "colab": {
          "base_uri": "https://localhost:8080/",
          "height": 313
        },
        "id": "ptUU4TA1mSSi",
        "outputId": "f839a23d-8133-41e1-f04d-7806e21b963c"
      },
      "source": [
        "image,_,_,_ = test_dataset[random.randint(1,10000)]\n",
        "rnum=random.randint(0,9)\n",
        "mnist_pred, sum_pred =prediction(image,rnum)"
      ],
      "execution_count": 38,
      "outputs": [
        {
          "output_type": "stream",
          "name": "stdout",
          "text": [
            "MNIST prediction 0\n",
            "Random Number Generated 3\n",
            "Sum calculated 3\n"
          ]
        },
        {
          "output_type": "display_data",
          "data": {
            "image/png": "[encoded data removed]",
            "text/plain": [
              "<Figure size 432x288 with 1 Axes>"
            ]
          },
          "metadata": {
            "needs_background": "light"
          }
        }
      ]
    }
  ]
}